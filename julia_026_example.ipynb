{
 "cells": [
  {
   "cell_type": "markdown",
   "metadata": {
    "colab_type": "text",
    "id": "KfmY_JDY2H4n"
   },
   "source": [
    "# 程式語言外部呼叫：在 Python 內使用 Julia"
   ]
  },
  {
   "cell_type": "markdown",
   "metadata": {
    "colab_type": "text",
    "id": "whBmrw0e2H4o"
   },
   "source": [
    "## 簡單呼叫 Julia 函式"
   ]
  },
  {
   "cell_type": "markdown",
   "metadata": {
    "colab_type": "text",
    "id": "enNWvJwN2H4o"
   },
   "source": [
    "Julia 的幾乎所有函式都在 `Base` 裡頭，當中支援各種基本的運算及型別。"
   ]
  },
  {
   "cell_type": "code",
   "execution_count": 1,
   "metadata": {
    "colab": {
     "base_uri": "https://localhost:8080/",
     "height": 301
    },
    "colab_type": "code",
    "executionInfo": {
     "elapsed": 2492,
     "status": "error",
     "timestamp": 1587893817004,
     "user": {
      "displayName": "James Huang",
      "photoUrl": "https://lh3.googleusercontent.com/a-/AOh14GgVLjk5K97lKCOUXuRIXqmMpk9z8t9Y5erVle_F=s64",
      "userId": "08800898835861317765"
     },
     "user_tz": -480
    },
    "id": "b6bOw9Bj2H4p",
    "outputId": "aaf282ca-b8b3-4b7a-d1bc-cdf4d9f54830"
   },
   "outputs": [
    {
     "ename": "ModuleNotFoundError",
     "evalue": "ignored",
     "output_type": "error",
     "traceback": [
      "\u001b[0;31m---------------------------------------------------------------------------\u001b[0m",
      "\u001b[0;31mModuleNotFoundError\u001b[0m                       Traceback (most recent call last)",
      "\u001b[0;32m<ipython-input-1-5063b14d431c>\u001b[0m in \u001b[0;36m<module>\u001b[0;34m()\u001b[0m\n\u001b[0;32m----> 1\u001b[0;31m \u001b[0;32mfrom\u001b[0m \u001b[0mjulia\u001b[0m \u001b[0;32mimport\u001b[0m \u001b[0mBase\u001b[0m\u001b[0;34m\u001b[0m\u001b[0;34m\u001b[0m\u001b[0m\n\u001b[0m",
      "\u001b[0;31mModuleNotFoundError\u001b[0m: No module named 'julia'",
      "",
      "\u001b[0;31m---------------------------------------------------------------------------\u001b[0;32m\nNOTE: If your import is failing due to a missing package, you can\nmanually install dependencies using either !pip or !apt.\n\nTo view examples of installing some common dependencies, click the\n\"Open Examples\" button below.\n\u001b[0;31m---------------------------------------------------------------------------\u001b[0m\n"
     ]
    }
   ],
   "source": [
    "from julia import Base"
   ]
  },
  {
   "cell_type": "code",
   "execution_count": 2,
   "metadata": {
    "colab": {
     "base_uri": "https://localhost:8080/",
     "height": 165
    },
    "colab_type": "code",
    "executionInfo": {
     "elapsed": 2379,
     "status": "error",
     "timestamp": 1587893824055,
     "user": {
      "displayName": "James Huang",
      "photoUrl": "https://lh3.googleusercontent.com/a-/AOh14GgVLjk5K97lKCOUXuRIXqmMpk9z8t9Y5erVle_F=s64",
      "userId": "08800898835861317765"
     },
     "user_tz": -480
    },
    "id": "Hvu7RQkq2H4s",
    "outputId": "5900aafe-7006-4984-bee1-ebd4f757173d"
   },
   "outputs": [
    {
     "ename": "NameError",
     "evalue": "ignored",
     "output_type": "error",
     "traceback": [
      "\u001b[0;31m---------------------------------------------------------------------------\u001b[0m",
      "\u001b[0;31mNameError\u001b[0m                                 Traceback (most recent call last)",
      "\u001b[0;32m<ipython-input-2-bd402c6d4712>\u001b[0m in \u001b[0;36m<module>\u001b[0;34m()\u001b[0m\n\u001b[0;32m----> 1\u001b[0;31m \u001b[0mBase\u001b[0m\u001b[0;34m.\u001b[0m\u001b[0msin\u001b[0m\u001b[0;34m(\u001b[0m\u001b[0;36m3\u001b[0m\u001b[0;34m)\u001b[0m\u001b[0;34m\u001b[0m\u001b[0;34m\u001b[0m\u001b[0m\n\u001b[0m",
      "\u001b[0;31mNameError\u001b[0m: name 'Base' is not defined"
     ]
    }
   ],
   "source": [
    "Base.sin(3)"
   ]
  },
  {
   "cell_type": "markdown",
   "metadata": {
    "colab_type": "text",
    "id": "Edm2HPyQ2H4v"
   },
   "source": [
    "## Python 風格的模組載入方法"
   ]
  },
  {
   "cell_type": "markdown",
   "metadata": {
    "colab_type": "text",
    "id": "sK3iFnVd2H4v"
   },
   "source": [
    "pyjulia 支援以各種不同的 Python 風格載入模組。"
   ]
  },
  {
   "cell_type": "code",
   "execution_count": 0,
   "metadata": {
    "colab": {},
    "colab_type": "code",
    "id": "ET7Qwstt2H4v"
   },
   "outputs": [],
   "source": [
    "import julia.Base"
   ]
  },
  {
   "cell_type": "code",
   "execution_count": 0,
   "metadata": {
    "colab": {},
    "colab_type": "code",
    "id": "nHSZYL2g2H4y",
    "outputId": "d1ed322c-e38c-4dc4-bec4-4ceff0cb28bc"
   },
   "outputs": [
    {
     "data": {
      "text/plain": [
       "0.1411200080598672"
      ]
     },
     "execution_count": 4,
     "metadata": {
      "tags": []
     },
     "output_type": "execute_result"
    }
   ],
   "source": [
    "julia.Base.sin(3)"
   ]
  },
  {
   "cell_type": "code",
   "execution_count": 0,
   "metadata": {
    "colab": {},
    "colab_type": "code",
    "id": "DbtssTen2H40"
   },
   "outputs": [],
   "source": [
    "from julia.Base import sin"
   ]
  },
  {
   "cell_type": "code",
   "execution_count": 0,
   "metadata": {
    "colab": {},
    "colab_type": "code",
    "id": "Qp7FBSzY2H42",
    "outputId": "6607a08e-6d64-4032-9cb3-2d5e79e514eb"
   },
   "outputs": [
    {
     "data": {
      "text/plain": [
       "0.1411200080598672"
      ]
     },
     "execution_count": 6,
     "metadata": {
      "tags": []
     },
     "output_type": "execute_result"
    }
   ],
   "source": [
    "sin(3)"
   ]
  },
  {
   "cell_type": "markdown",
   "metadata": {
    "colab_type": "text",
    "id": "9ifk-Eiv2H44"
   },
   "source": [
    "## 從模組當中載入型別"
   ]
  },
  {
   "cell_type": "code",
   "execution_count": 0,
   "metadata": {
    "colab": {},
    "colab_type": "code",
    "id": "0iV5DsoQ2H45"
   },
   "outputs": [],
   "source": [
    "from julia.SparseArrays import SparseMatrixCSC"
   ]
  },
  {
   "cell_type": "code",
   "execution_count": 0,
   "metadata": {
    "colab": {},
    "colab_type": "code",
    "id": "tIk7ttoV2H47"
   },
   "outputs": [],
   "source": [
    "sm = SparseMatrixCSC([[3, 0, 0, 0], [9, 0, 0, 7]])"
   ]
  },
  {
   "cell_type": "code",
   "execution_count": 0,
   "metadata": {
    "colab": {},
    "colab_type": "code",
    "id": "mSFfl1SF2H49",
    "outputId": "9917e2fb-695a-4a95-98a6-e702e188d44e"
   },
   "outputs": [
    {
     "data": {
      "text/plain": [
       "[[3, 0, 0, 0], [9, 0, 0, 7]]"
      ]
     },
     "execution_count": 9,
     "metadata": {
      "tags": []
     },
     "output_type": "execute_result"
    }
   ],
   "source": [
    "sm"
   ]
  },
  {
   "cell_type": "markdown",
   "metadata": {
    "colab_type": "text",
    "id": "Wk9PteMf2H4_"
   },
   "source": [
    "如以上的方式，將 Julia 物件存為 Python 的變數，會將物件轉換為 Python 物件並指定給 Python 變數。"
   ]
  },
  {
   "cell_type": "markdown",
   "metadata": {
    "colab_type": "text",
    "id": "wWyZIBGs2H4_"
   },
   "source": [
    "為了讓他保持 Julia 物件的樣子，我們將使用 Julia 的 `Main` 模組來儲存變數。`Main` 模組一般為 Julia 啟動時所執行的模組，他本身也是一個命名空間，將物件存在 `Main` 模組中可以保持 Julia 物件的樣貌，對後續的運算也不會有效能損失。"
   ]
  },
  {
   "cell_type": "code",
   "execution_count": 0,
   "metadata": {
    "colab": {},
    "colab_type": "code",
    "id": "oVWTDMbq2H5A"
   },
   "outputs": [],
   "source": [
    "from julia import Main\n",
    "Main.xs = [1, 2, 3]"
   ]
  },
  {
   "cell_type": "markdown",
   "metadata": {
    "colab_type": "text",
    "id": "03lNiMIc2H5C"
   },
   "source": [
    "執行運算可以使用 `Main.eval`，並且其中放入 Julia 程式碼字串。"
   ]
  },
  {
   "cell_type": "code",
   "execution_count": 0,
   "metadata": {
    "colab": {},
    "colab_type": "code",
    "id": "C2zkvg5x2H5D",
    "outputId": "b812bddf-67bf-4c66-a721-2cba5f38bc7e"
   },
   "outputs": [
    {
     "data": {
      "text/plain": [
       "array([ 0.54030231, -0.41614684, -0.9899925 ])"
      ]
     },
     "execution_count": 11,
     "metadata": {
      "tags": []
     },
     "output_type": "execute_result"
    }
   ],
   "source": [
    "Main.eval(\"cos.(xs)\")"
   ]
  },
  {
   "cell_type": "code",
   "execution_count": 0,
   "metadata": {
    "colab": {},
    "colab_type": "code",
    "id": "r3OL5B6Q2H5F",
    "outputId": "a35a3a4a-3387-43ba-c042-d932485f0d9d"
   },
   "outputs": [
    {
     "data": {
      "text/plain": [
       "<PyCall.jlwrap Array{Int64,1}>"
      ]
     },
     "execution_count": 12,
     "metadata": {
      "tags": []
     },
     "output_type": "execute_result"
    }
   ],
   "source": [
    "Main.eval(\"typeof(xs)\")"
   ]
  },
  {
   "cell_type": "code",
   "execution_count": 0,
   "metadata": {
    "colab": {},
    "colab_type": "code",
    "id": "v4_Ap5922H5G"
   },
   "outputs": [],
   "source": [
    "Main.ys = [4, 5, 6]"
   ]
  },
  {
   "cell_type": "code",
   "execution_count": 0,
   "metadata": {
    "colab": {},
    "colab_type": "code",
    "id": "NFUNTLYs2H5I",
    "outputId": "62df6d09-e7ac-4240-960e-e8bce5871746"
   },
   "outputs": [
    {
     "data": {
      "text/plain": [
       "array([5, 7, 9], dtype=int64)"
      ]
     },
     "execution_count": 14,
     "metadata": {
      "tags": []
     },
     "output_type": "execute_result"
    }
   ],
   "source": [
    "Main.eval(\"xs .+ ys\")"
   ]
  },
  {
   "cell_type": "markdown",
   "metadata": {
    "colab_type": "text",
    "id": "p3v5-xyD2H5K"
   },
   "source": [
    "在此使用 `println` 一類的輸出方式察看物件都是無效的。"
   ]
  },
  {
   "cell_type": "code",
   "execution_count": 0,
   "metadata": {
    "colab": {},
    "colab_type": "code",
    "id": "BQXm8zLD2H5K"
   },
   "outputs": [],
   "source": [
    "Main.eval(\"println(xs .+ ys)\")"
   ]
  },
  {
   "cell_type": "code",
   "execution_count": 0,
   "metadata": {
    "colab": {},
    "colab_type": "code",
    "id": "UqAyT3dl2H5N"
   },
   "outputs": [],
   "source": [
    ""
   ]
  }
 ],
 "metadata": {
  "colab": {
   "name": "julia_026_example.ipynb",
   "provenance": []
  },
  "kernelspec": {
   "display_name": "Python 3",
   "language": "python",
   "name": "python3"
  },
  "language_info": {
   "codemirror_mode": {
    "name": "ipython",
    "version": 3
   },
   "file_extension": ".py",
   "mimetype": "text/x-python",
   "name": "python",
   "nbconvert_exporter": "python",
   "pygments_lexer": "ipython3",
   "version": "3.8.2"
  }
 },
 "nbformat": 4,
 "nbformat_minor": 0
}
