{
 "cells": [
  {
   "cell_type": "markdown",
   "metadata": {},
   "source": [
    "# Julia 深度學習：可微分程式設計\n",
    "\n",
    "## 作業 031：對神經網路層微分\n",
    "\n",
    "請自行撰寫一個型別，型別代表神經網路的一層運算，並且對它微分。神經網路層的一般式如下：\n",
    "\n",
    "$$\n",
    "y = \\sigma (Wx + b)\n",
    "$$\n",
    "\n",
    "其中 `W` 為參數矩陣，`b` 為參數向量，`x` 為輸入向量，`y` 為輸出向量。要取得向量的微分值，需要將向量縮減為純量，如下：\n",
    "\n",
    "```\n",
    "gradient(x -> sum(y), 1)\n",
    "```"
   ]
  },
  {
   "cell_type": "code",
   "execution_count": 1,
   "metadata": {},
   "outputs": [],
   "source": [
    "using Zygote"
   ]
  },
  {
   "cell_type": "code",
   "execution_count": 2,
   "metadata": {},
   "outputs": [],
   "source": [
    "mutable struct NN\n",
    "    w::Matrix\n",
    "    b::Vector\n",
    "end"
   ]
  },
  {
   "cell_type": "code",
   "execution_count": 4,
   "metadata": {},
   "outputs": [],
   "source": [
    "(l::NN)(x) = identity(l.w*x+l.b)"
   ]
  },
  {
   "cell_type": "code",
   "execution_count": 5,
   "metadata": {},
   "outputs": [
    {
     "data": {
      "text/plain": [
       "NN([0.4253314868705962 0.5148690672581522 0.9133682332321376 0.6715773866970984; 0.5676341748868787 0.736275707999839 0.7821441367260455 0.9802007273301743; 0.36656487235405466 0.07001965825313383 0.49596664074798924 0.8716534059185688], [0.5323066406282189, 0.6161034620925061, 0.3861495675514126])"
      ]
     },
     "execution_count": 5,
     "metadata": {},
     "output_type": "execute_result"
    }
   ],
   "source": [
    "l = NN(rand(3,4),rand(3))"
   ]
  },
  {
   "cell_type": "code",
   "execution_count": 6,
   "metadata": {},
   "outputs": [
    {
     "data": {
      "text/plain": [
       "3-element Array{Float64,1}:\n",
       " 1.398199487958508\n",
       " 1.8025731303544428\n",
       " 1.0559703168956225"
      ]
     },
     "execution_count": 6,
     "metadata": {},
     "output_type": "execute_result"
    }
   ],
   "source": [
    "l(rand(4))"
   ]
  },
  {
   "cell_type": "code",
   "execution_count": 7,
   "metadata": {},
   "outputs": [
    {
     "data": {
      "text/plain": [
       "([1.3595305341115296, 1.321164433511125, 2.191479010706172, 2.5234315199458415],)"
      ]
     },
     "execution_count": 7,
     "metadata": {},
     "output_type": "execute_result"
    }
   ],
   "source": [
    "gradient(x -> sum(l(x)),rand(4))"
   ]
  },
  {
   "cell_type": "code",
   "execution_count": null,
   "metadata": {},
   "outputs": [],
   "source": []
  }
 ],
 "metadata": {
  "kernelspec": {
   "display_name": "Julia 1.4.0",
   "language": "julia",
   "name": "julia-1.4"
  },
  "language_info": {
   "file_extension": ".jl",
   "mimetype": "application/julia",
   "name": "julia",
   "version": "1.4.0"
  }
 },
 "nbformat": 4,
 "nbformat_minor": 4
}
