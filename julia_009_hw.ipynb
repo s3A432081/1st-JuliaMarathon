{
 "cells": [
  {
   "cell_type": "markdown",
   "metadata": {},
   "source": [
    "# 陣列 (Array)\n",
    "\n",
    "## Day 009 作業：比較不同的內建排序演算法\n",
    "\n",
    "除了範例程式示範的 QuickSort 之外，Julia 也內建支援幾種不同的排序演算法：\n",
    "\n",
    "- InsertionSort\n",
    "- PartialQuickSort(k)\n",
    "- MergeSort\n",
    "\n",
    "1. 請閱讀官方文件及範例 [Sorting-Algorithms](https://docs.julialang.org/en/v1/base/sort/#Sorting-Algorithms-1)\n",
    "\n",
    "2. 撰寫程式隨機產生 100000 個 200 到 500 之間的數字來建立陣列，執行不同排序方法，來比較不同排序方法的速度。\n",
    "\n",
    "**[提示]** 排序執行所需時間可以用巨集 `@time` 或 `@elapsed` 來取得。"
   ]
  },
  {
   "cell_type": "code",
   "execution_count": 8,
   "metadata": {},
   "outputs": [
    {
     "data": {
      "text/plain": [
       "100000-element Array{Int64,1}:\n",
       " 385\n",
       " 463\n",
       " 282\n",
       " 335\n",
       " 366\n",
       " 252\n",
       " 432\n",
       " 377\n",
       " 282\n",
       " 476\n",
       " 238\n",
       " 447\n",
       " 206\n",
       "   ⋮\n",
       " 498\n",
       " 425\n",
       " 277\n",
       " 413\n",
       " 336\n",
       " 258\n",
       " 256\n",
       " 240\n",
       " 454\n",
       " 381\n",
       " 255\n",
       " 211"
      ]
     },
     "execution_count": 8,
     "metadata": {},
     "output_type": "execute_result"
    }
   ],
   "source": [
    "# 產生 100000 個 200 到 500 之間的數字的陣列\n",
    "x = rand(200:500,100000)# 請將註解取代為程式碼"
   ]
  },
  {
   "cell_type": "markdown",
   "metadata": {},
   "source": [
    "## Insertion Sort"
   ]
  },
  {
   "cell_type": "code",
   "execution_count": 18,
   "metadata": {},
   "outputs": [
    {
     "name": "stdout",
     "output_type": "stream",
     "text": [
      "  0.000933 seconds (3 allocations: 783.828 KiB)\n"
     ]
    },
    {
     "data": {
      "text/plain": [
       "100000-element Array{Int64,1}:\n",
       " 200\n",
       " 200\n",
       " 200\n",
       " 200\n",
       " 200\n",
       " 200\n",
       " 200\n",
       " 200\n",
       " 200\n",
       " 200\n",
       " 200\n",
       " 200\n",
       " 200\n",
       "   ⋮\n",
       " 500\n",
       " 500\n",
       " 500\n",
       " 500\n",
       " 500\n",
       " 500\n",
       " 500\n",
       " 500\n",
       " 500\n",
       " 500\n",
       " 500\n",
       " 500"
      ]
     },
     "execution_count": 18,
     "metadata": {},
     "output_type": "execute_result"
    }
   ],
   "source": [
    "@time sort(x;alg = InsertionSort)"
   ]
  },
  {
   "cell_type": "markdown",
   "metadata": {},
   "source": [
    "## Merge Sort"
   ]
  },
  {
   "cell_type": "code",
   "execution_count": 10,
   "metadata": {},
   "outputs": [
    {
     "name": "stdout",
     "output_type": "stream",
     "text": [
      "  0.000602 seconds (3 allocations: 783.828 KiB)\n"
     ]
    },
    {
     "data": {
      "text/plain": [
       "100000-element Array{Int64,1}:\n",
       " 200\n",
       " 200\n",
       " 200\n",
       " 200\n",
       " 200\n",
       " 200\n",
       " 200\n",
       " 200\n",
       " 200\n",
       " 200\n",
       " 200\n",
       " 200\n",
       " 200\n",
       "   ⋮\n",
       " 500\n",
       " 500\n",
       " 500\n",
       " 500\n",
       " 500\n",
       " 500\n",
       " 500\n",
       " 500\n",
       " 500\n",
       " 500\n",
       " 500\n",
       " 500"
      ]
     },
     "execution_count": 10,
     "metadata": {},
     "output_type": "execute_result"
    }
   ],
   "source": [
    "@time sort(x;alg = MergeSort)"
   ]
  },
  {
   "cell_type": "markdown",
   "metadata": {},
   "source": [
    "## Partial Quick Sort"
   ]
  },
  {
   "cell_type": "code",
   "execution_count": 27,
   "metadata": {},
   "outputs": [
    {
     "name": "stdout",
     "output_type": "stream",
     "text": [
      "  0.000827 seconds (5 allocations: 783.859 KiB)\n"
     ]
    },
    {
     "data": {
      "text/plain": [
       "100000-element Array{Int64,1}:\n",
       " 200\n",
       " 200\n",
       " 200\n",
       " 200\n",
       " 200\n",
       " 200\n",
       " 200\n",
       " 200\n",
       " 200\n",
       " 200\n",
       " 200\n",
       " 200\n",
       " 200\n",
       "   ⋮\n",
       " 500\n",
       " 500\n",
       " 500\n",
       " 500\n",
       " 500\n",
       " 500\n",
       " 500\n",
       " 500\n",
       " 500\n",
       " 500\n",
       " 500\n",
       " 500"
      ]
     },
     "execution_count": 27,
     "metadata": {},
     "output_type": "execute_result"
    }
   ],
   "source": [
    "@time sort(x;alg = PartialQuickSort(100000))"
   ]
  },
  {
   "cell_type": "markdown",
   "metadata": {},
   "source": [
    "## QuickSort"
   ]
  },
  {
   "cell_type": "code",
   "execution_count": 12,
   "metadata": {},
   "outputs": [
    {
     "name": "stdout",
     "output_type": "stream",
     "text": [
      "  0.001178 seconds (3 allocations: 783.828 KiB)\n"
     ]
    },
    {
     "data": {
      "text/plain": [
       "100000-element Array{Int64,1}:\n",
       " 200\n",
       " 200\n",
       " 200\n",
       " 200\n",
       " 200\n",
       " 200\n",
       " 200\n",
       " 200\n",
       " 200\n",
       " 200\n",
       " 200\n",
       " 200\n",
       " 200\n",
       "   ⋮\n",
       " 500\n",
       " 500\n",
       " 500\n",
       " 500\n",
       " 500\n",
       " 500\n",
       " 500\n",
       " 500\n",
       " 500\n",
       " 500\n",
       " 500\n",
       " 500"
      ]
     },
     "execution_count": 12,
     "metadata": {},
     "output_type": "execute_result"
    }
   ],
   "source": [
    "@time sort(x;alg = QuickSort)"
   ]
  },
  {
   "cell_type": "markdown",
   "metadata": {},
   "source": [
    "## 請問哪一種排序方法的效能最好？"
   ]
  },
  {
   "cell_type": "code",
   "execution_count": 28,
   "metadata": {},
   "outputs": [
    {
     "ename": "LoadError",
     "evalue": "syntax: extra token \"Sort效能最好\" after end of expression",
     "output_type": "error",
     "traceback": [
      "syntax: extra token \"Sort效能最好\" after end of expression",
      ""
     ]
    }
   ],
   "source": [
    "Merge Sort效能最好"
   ]
  },
  {
   "cell_type": "code",
   "execution_count": null,
   "metadata": {},
   "outputs": [],
   "source": []
  }
 ],
 "metadata": {
  "kernelspec": {
   "display_name": "Julia 1.4.0",
   "language": "julia",
   "name": "julia-1.4"
  },
  "language_info": {
   "file_extension": ".jl",
   "mimetype": "application/julia",
   "name": "julia",
   "version": "1.4.0"
  }
 },
 "nbformat": 4,
 "nbformat_minor": 4
}
