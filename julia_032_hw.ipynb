{
 "cells": [
  {
   "cell_type": "markdown",
   "metadata": {},
   "source": [
    "# Julia 深度學習：類神經網路模型簡介\n",
    "\n",
    "## 作業 032：訓練 MLP 學習門牌號碼資料集\n",
    "\n",
    "訓練一個 MLP 模型來學習門牌號碼資料集。\n",
    "\n",
    "注意：MLP 模型的能力有限，可能會導致訓練起來效果不佳。\n",
    "\n",
    "注意：近期 Flux 正在持續更新，請確保您的 Julia 在 v1.3 版以上，以及 Flux 在 v0.10.4 以上或是最新版。"
   ]
  },
  {
   "cell_type": "code",
   "execution_count": 1,
   "metadata": {},
   "outputs": [
    {
     "name": "stdout",
     "output_type": "stream",
     "text": [
      "\u001b[32m\u001b[1mDownloading\u001b[22m\u001b[39m artifact: CUDA10.2\n",
      "\u001b[?25l"
     ]
    },
    {
     "name": "stderr",
     "output_type": "stream",
     "text": [
      "base64 binary data: pUggIjIiIKTevMapSaVzICJEb3dubG9hZEZpbGUiIK7JtW+lzajSpX6qrKpwOiAitUyqa7jRqlK7t7rdple62TogJ2dpdGh1Yi5jb20nIg0Kpuyp8yC9dbj0OjcgpnKkuDoxDQorICR3ZWJjbGllbnQuRG93bmxvYWRGaWxlKCJodHRwczovL2dpdGh1Yi5jb20vSnVsaWFHUFUvQ1VEQUJ1aWxkZXIvcmVsZSAuLi4NCisgfn5+fn5+fn5+fn5+fn5+fn5+fn5+fn5+fn5+fn5+fn5+fn5+fn5+fn5+fn5+fn5+fn5+fn5+fn5+fn5+fn5+fn5+fn5+DQogICAgKyBDYXRlZ29yeUluZm8gICAgICAgICAgOiBOb3RTcGVjaWZpZWQ6ICg6KSBbXSwgTWV0aG9kSW52b2NhdGlvbkV4Y2VwdGlvbg0KICAgICsgRnVsbHlRdWFsaWZpZWRFcnJvcklkIDogV2ViRXhjZXB0aW9uDQogDQo=\n"
     ]
    },
    {
     "name": "stdout",
     "output_type": "stream",
     "text": [
      "\u001b[1A\u001b[2K\u001b[?25h\u001b[32m\u001b[1mDownloading\u001b[22m\u001b[39m artifact: CUDA10.2\n",
      "\u001b[?25l"
     ]
    },
    {
     "name": "stderr",
     "output_type": "stream",
     "text": [
      "base64 binary data: pUggIjIiIKTevMapSaVzICJEb3dubG9hZEZpbGUiIK7JtW+lzajSpX6qrKpwOiAitUyqa7jRqlK7t7rdple62TogJ2dpdGh1Yi5jb20nIg0Kpuyp8yC9dbj0OjcgpnKkuDoxDQorICR3ZWJjbGllbnQuRG93bmxvYWRGaWxlKCJodHRwczovL2dpdGh1Yi5jb20vSnVsaWFHUFUvQ1VEQUJ1aWxkZXIvcmVsZSAuLi4NCisgfn5+fn5+fn5+fn5+fn5+fn5+fn5+fn5+fn5+fn5+fn5+fn5+fn5+fn5+fn5+fn5+fn5+fn5+fn5+fn5+fn5+fn5+fn5+DQogICAgKyBDYXRlZ29yeUluZm8gICAgICAgICAgOiBOb3RTcGVjaWZpZWQ6ICg6KSBbXSwgTWV0aG9kSW52b2NhdGlvbkV4Y2VwdGlvbg0KICAgICsgRnVsbHlRdWFsaWZpZWRFcnJvcklkIDogV2ViRXhjZXB0aW9uDQogDQo=\n"
     ]
    },
    {
     "name": "stdout",
     "output_type": "stream",
     "text": [
      "\u001b[1A\u001b[2K\u001b[?25h"
     ]
    }
   ],
   "source": [
    "using Flux\n",
    "using Flux.Data: DataLoader\n",
    "using Flux: @epochs, onecold, onehotbatch, throttle, logitcrossentropy\n",
    "using MLDatasets\n",
    "using Statistics"
   ]
  },
  {
   "cell_type": "markdown",
   "metadata": {},
   "source": [
    "## 讀取資料"
   ]
  },
  {
   "cell_type": "markdown",
   "metadata": {},
   "source": [
    "呼叫 SVHN2 資料集的過程中，會先去檢查以前是否有下載過，如果是第一次下載，過程中會詢問是否下載資料集，請回答 `y`。整個資料集的大小約為 1.6 GB，下載時間可能會稍久，請耐心等候。"
   ]
  },
  {
   "cell_type": "code",
   "execution_count": 2,
   "metadata": {},
   "outputs": [
    {
     "name": "stdout",
     "output_type": "stream",
     "text": [
      "This program has requested access to the data dependency SVHN2.\n",
      "which is not currently installed. It can be installed automatically, and you will not see this message again.\n",
      "\n",
      "Dataset: The Street View House Numbers (SVHN) Dataset\n",
      "Authors: Yuval Netzer, Tao Wang, Adam Coates, Alessandro Bissacco, Bo Wu, Andrew Y. Ng\n",
      "Website: http://ufldl.stanford.edu/housenumbers\n",
      "Format: Cropped Digits (Format 2 on the website)\n",
      "Note: for non-commercial use only\n",
      "\n",
      "[Netzer et al., 2011]\n",
      "    Yuval Netzer, Tao Wang, Adam Coates, Alessandro Bissacco, Bo Wu, Andrew Y. Ng\n",
      "    \"Reading Digits in Natural Images with Unsupervised Feature Learning\"\n",
      "    NIPS Workshop on Deep Learning and Unsupervised Feature Learning 2011\n",
      "\n",
      "The dataset is split up into three subsets: 73257\n",
      "digits for training, 26032 digits for testing, and\n",
      "531131 additional to use as extra training data.\n",
      "\n",
      "The files are available for download at the official\n",
      "website linked above. Note that using the data\n",
      "responsibly and respecting copyright remains your\n",
      "responsibility. For example the website mentions that\n",
      "the data is for non-commercial use only. Please read\n",
      "the website to make sure you want to download the\n",
      "dataset.\n",
      "\n",
      "\n",
      "\n",
      "Do you want to download the dataset from [\"http://ufldl.stanford.edu/housenumbers/train_32x32.mat\", \"http://ufldl.stanford.edu/housenumbers/test_32x32.mat\", \"http://ufldl.stanford.edu/housenumbers/extra_32x32.mat\"] to \"C:\\Users\\s7070\\.julia\\datadeps\\SVHN2\"?\n",
      "[y/n]\n",
      "stdin> y\n"
     ]
    },
    {
     "ename": "Sockets.DNSError",
     "evalue": "DNSError: ufldl.stanford.edu, unknown node or service (EAI_NONAME)",
     "output_type": "error",
     "traceback": [
      "DNSError: ufldl.stanford.edu, unknown node or service (EAI_NONAME)",
      "",
      "Stacktrace:",
      " [1] (::Base.var\"#726#728\")(::Task) at .\\asyncmap.jl:178",
      " [2] foreach(::Base.var\"#726#728\", ::Array{Any,1}) at .\\abstractarray.jl:1919",
      " [3] maptwice(::Function, ::Channel{Any}, ::Array{Any,1}, ::Array{String,1}) at .\\asyncmap.jl:178",
      " [4] wrap_n_exec_twice at .\\asyncmap.jl:154 [inlined]",
      " [5] async_usemap(::DataDeps.var\"#12#13\"{typeof(DataDeps.fetch_default),String}, ::Array{String,1}; ntasks::Int64, batch_size::Nothing) at .\\asyncmap.jl:103",
      " [6] #asyncmap#710 at .\\asyncmap.jl:81 [inlined]",
      " [7] asyncmap at .\\asyncmap.jl:81 [inlined]",
      " [8] run_fetch at C:\\Users\\s7070\\.julia\\packages\\DataDeps\\gbyoa\\src\\resolution_automatic.jl:104 [inlined]",
      " [9] download(::DataDeps.DataDep{String,Array{String,1},typeof(DataDeps.fetch_default),typeof(identity)}, ::String; remotepath::Array{String,1}, i_accept_the_terms_of_use::Nothing, skip_checksum::Bool) at C:\\Users\\s7070\\.julia\\packages\\DataDeps\\gbyoa\\src\\resolution_automatic.jl:78",
      " [10] download at C:\\Users\\s7070\\.julia\\packages\\DataDeps\\gbyoa\\src\\resolution_automatic.jl:70 [inlined]",
      " [11] handle_missing at C:\\Users\\s7070\\.julia\\packages\\DataDeps\\gbyoa\\src\\resolution_automatic.jl:10 [inlined]",
      " [12] _resolve(::DataDeps.DataDep{String,Array{String,1},typeof(DataDeps.fetch_default),typeof(identity)}, ::String) at C:\\Users\\s7070\\.julia\\packages\\DataDeps\\gbyoa\\src\\resolution.jl:83",
      " [13] resolve(::DataDeps.DataDep{String,Array{String,1},typeof(DataDeps.fetch_default),typeof(identity)}, ::String, ::String) at C:\\Users\\s7070\\.julia\\packages\\DataDeps\\gbyoa\\src\\resolution.jl:29",
      " [14] resolve(::String, ::String, ::String) at C:\\Users\\s7070\\.julia\\packages\\DataDeps\\gbyoa\\src\\resolution.jl:54",
      " [15] resolve at C:\\Users\\s7070\\.julia\\packages\\DataDeps\\gbyoa\\src\\resolution.jl:73 [inlined]",
      " [16] #2 at C:\\Users\\s7070\\.julia\\packages\\MLDatasets\\aov6i\\src\\download.jl:17 [inlined]",
      " [17] withenv(::MLDatasets.var\"#2#3\"{String,Nothing}, ::Pair{String,String}) at .\\env.jl:161",
      " [18] with_accept at C:\\Users\\s7070\\.julia\\packages\\MLDatasets\\aov6i\\src\\download.jl:10 [inlined]",
      " [19] #datadir#1 at C:\\Users\\s7070\\.julia\\packages\\MLDatasets\\aov6i\\src\\download.jl:14 [inlined]",
      " [20] datadir at C:\\Users\\s7070\\.julia\\packages\\MLDatasets\\aov6i\\src\\download.jl:14 [inlined]",
      " [21] datafile(::String, ::String, ::Nothing; recurse::Bool, kw::Base.Iterators.Pairs{Union{},Union{},Tuple{},NamedTuple{(),Tuple{}}}) at C:\\Users\\s7070\\.julia\\packages\\MLDatasets\\aov6i\\src\\download.jl:32",
      " [22] datafile at C:\\Users\\s7070\\.julia\\packages\\MLDatasets\\aov6i\\src\\download.jl:32 [inlined]",
      " [23] traindata(::Type{Float32}; dir::Nothing) at C:\\Users\\s7070\\.julia\\packages\\MLDatasets\\aov6i\\src\\SVHN2\\interface.jl:186",
      " [24] traindata(::Type{Float32}) at C:\\Users\\s7070\\.julia\\packages\\MLDatasets\\aov6i\\src\\SVHN2\\interface.jl:186",
      " [25] top-level scope at In[2]:1"
     ]
    }
   ],
   "source": [
    "train_X, train_y = SVHN2.traindata(Float32)\n",
    "test_X,  test_y  = SVHN2.testdata(Float32)"
   ]
  },
  {
   "cell_type": "code",
   "execution_count": 3,
   "metadata": {},
   "outputs": [
    {
     "ename": "UndefVarError",
     "evalue": "UndefVarError: train_X not defined",
     "output_type": "error",
     "traceback": [
      "UndefVarError: train_X not defined",
      "",
      "Stacktrace:",
      " [1] top-level scope at In[3]:1"
     ]
    }
   ],
   "source": [
    "train_X = Flux.flatten(train_X)\n",
    "test_X = Flux.flatten(test_X)\n",
    "train_y = onehotbatch(train_y, 1:10)\n",
    "test_y = onehotbatch(test_y, 1:10)"
   ]
  },
  {
   "cell_type": "code",
   "execution_count": null,
   "metadata": {},
   "outputs": [],
   "source": []
  }
 ],
 "metadata": {
  "kernelspec": {
   "display_name": "Julia 1.4.0",
   "language": "julia",
   "name": "julia-1.4"
  },
  "language_info": {
   "file_extension": ".jl",
   "mimetype": "application/julia",
   "name": "julia",
   "version": "1.4.0"
  }
 },
 "nbformat": 4,
 "nbformat_minor": 4
}
