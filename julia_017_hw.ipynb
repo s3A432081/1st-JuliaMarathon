{
 "cells": [
  {
   "cell_type": "markdown",
   "metadata": {
    "colab_type": "text",
    "id": "RwwJrhTYktEu"
   },
   "source": [
    "# Julia DataFrames.jl 介紹\n",
    "\n",
    "# Day 017 作業：載入 COVID-19 資料集\n",
    "\n",
    "今天的作業將使用 `DataFrames.jl` 及 `CSV.jl` 套件，來載入美國約翰霍普金斯大學提供的 COVID-19 資料集 (2019 Novel Coronavirus COVID-19 (2019-nCoV) Data Repository by Johns Hopkins CSSE)。資料集作為教育及研究使用，並且被用來建立視覺化儀表板提供檢視及追蹤 COVID-19 疫情狀況。\n",
    "\n",
    "資料集 GitHub: [https://github.com/CSSEGISandData/COVID-19](https://github.com/CSSEGISandData/COVID-19)\n",
    "\n",
    "資料集格式為 CSV，整合不同資料來源，主要分為 Daily Report 及時間序列資料。\n",
    "\n",
    "請自行下載 2020/4/2 的 daily report資料集：[https://github.com/CSSEGISandData/COVID-19/blob/master/csse_covid_19_data/csse_covid_19_daily_reports/04-02-2020.csv](https://github.com/CSSEGISandData/COVID-19/blob/master/csse_covid_19_data/csse_covid_19_daily_reports/04-02-2020.csv)\n",
    "\n",
    "Daily Report 主要欄位有：\n",
    "\n",
    "- Province/State: 省名 (中國)、州名或市名 (美國、加拿大、澳洲)、或是事件名稱 (例如鑽石公主號)...\n",
    "- Country/Region: 國名或區域名\n",
    "- Last Update: 最後更新日期/時間，格式為 24 小時制的 UTC 時間\n",
    "- Confirmed: 確診案例\n",
    "- Deaths: 死亡案例\n",
    "- Recovered: 康復案例\n",
    "- Lat, Long: 經緯度\n",
    "- Combined Key: 複合 Key 值"
   ]
  },
  {
   "cell_type": "code",
   "execution_count": 0,
   "metadata": {
    "colab": {},
    "colab_type": "code",
    "id": "vuP8jUnyktEw"
   },
   "outputs": [],
   "source": [
    "using DataFrames, CSV"
   ]
  },
  {
   "cell_type": "code",
   "execution_count": 0,
   "metadata": {
    "colab": {},
    "colab_type": "code",
    "id": "OpdMDBpOktE2"
   },
   "outputs": [],
   "source": [
    "df = # 撰寫讀取 CSV 檔的程式碼"
   ]
  },
  {
   "cell_type": "markdown",
   "metadata": {
    "colab_type": "text",
    "id": "tjHT7JguktE8"
   },
   "source": [
    "請問此資料集的筆數 (row) 及欄位數 (column) 各是多少？"
   ]
  },
  {
   "cell_type": "code",
   "execution_count": 0,
   "metadata": {
    "colab": {},
    "colab_type": "code",
    "id": "PsiCFHoQktE9"
   },
   "outputs": [],
   "source": [
    "# 請在此輸入程式碼\n"
   ]
  },
  {
   "cell_type": "code",
   "execution_count": 0,
   "metadata": {
    "colab": {},
    "colab_type": "code",
    "id": "rM_SuUgiktFB"
   },
   "outputs": [],
   "source": [
    "# 彙總 DataFrame 資訊\n",
    "describe(df)"
   ]
  },
  {
   "cell_type": "markdown",
   "metadata": {
    "colab_type": "text",
    "id": "_JFYFQPYktFG"
   },
   "source": [
    "### 作業1：數值 Column 的計算\n",
    "\n",
    "請問截至4月2日為止 (UTC 時間)，全球累計的確診、死亡、及㡽復案例數各是多少？\n",
    "\n",
    "【提示】可參考 `sum()` 內建函式。"
   ]
  },
  {
   "cell_type": "code",
   "execution_count": 0,
   "metadata": {
    "colab": {},
    "colab_type": "code",
    "id": "FbDS2rEqktFG"
   },
   "outputs": [],
   "source": [
    ""
   ]
  },
  {
   "cell_type": "markdown",
   "metadata": {
    "colab_type": "text",
    "id": "L18CxMYmktFL"
   },
   "source": [
    "上面解答範例列出確診案例數前 10 名的 Province_State, Country_Region, Confirmed, Deaths, Recovered 等 5 個 column。"
   ]
  },
  {
   "cell_type": "markdown",
   "metadata": {
    "colab_type": "text",
    "id": "edTskysektFL"
   },
   "source": [
    "### 作業2：找出特定的 Row\n",
    "\n",
    "截至4月2日為止 (UTC 時間)，台灣的確診、死亡、及㡽復案例數為多少？\n",
    "\n",
    "【提示】使用點運算 `.==` 來比較同一 column 中所有值。"
   ]
  },
  {
   "cell_type": "code",
   "execution_count": 0,
   "metadata": {
    "colab": {},
    "colab_type": "code",
    "id": "_y1CuQ_wktFM"
   },
   "outputs": [],
   "source": [
    ""
   ]
  }
 ],
 "metadata": {
  "colab": {
   "name": "julia_017_hw.ipynb",
   "provenance": []
  },
  "kernelspec": {
   "display_name": "Julia 1.2.0",
   "language": "julia",
   "name": "julia-1.2"
  },
  "language_info": {
   "file_extension": ".jl",
   "mimetype": "application/julia",
   "name": "julia",
   "version": "1.2.0"
  }
 },
 "nbformat": 4,
 "nbformat_minor": 0
}
