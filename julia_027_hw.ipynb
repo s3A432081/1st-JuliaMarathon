{
 "cells": [
  {
   "cell_type": "markdown",
   "metadata": {},
   "source": [
    "# Julia 機器學習：GLM 線性迴歸\n",
    "\n",
    "## 作業 027：波士頓房價預測資料集\n",
    "\n",
    "請使用 GLM 中的模型，建立一個預測模型來預測波士頓的房價。"
   ]
  },
  {
   "cell_type": "code",
   "execution_count": 13,
   "metadata": {},
   "outputs": [
    {
     "name": "stderr",
     "output_type": "stream",
     "text": [
      "\u001b[32m\u001b[1m  Resolving\u001b[22m\u001b[39m package versions...\n",
      "\u001b[32m\u001b[1m   Updating\u001b[22m\u001b[39m `C:\\Users\\s7070\\.julia\\environments\\v1.4\\Project.toml`\n",
      "\u001b[90m [no changes]\u001b[39m\n",
      "\u001b[32m\u001b[1m   Updating\u001b[22m\u001b[39m `C:\\Users\\s7070\\.julia\\environments\\v1.4\\Manifest.toml`\n",
      "\u001b[90m [no changes]\u001b[39m\n",
      "\u001b[32m\u001b[1m  Resolving\u001b[22m\u001b[39m package versions...\n",
      "\u001b[32m\u001b[1m   Updating\u001b[22m\u001b[39m `C:\\Users\\s7070\\.julia\\environments\\v1.4\\Project.toml`\n",
      "\u001b[90m [no changes]\u001b[39m\n",
      "\u001b[32m\u001b[1m   Updating\u001b[22m\u001b[39m `C:\\Users\\s7070\\.julia\\environments\\v1.4\\Manifest.toml`\n",
      "\u001b[90m [no changes]\u001b[39m\n"
     ]
    }
   ],
   "source": [
    "using Pkg\n",
    "Pkg.add(\"MLDataUtils\")\n",
    "Pkg.add(\"GLM\")\n",
    "using GLM, RDatasets, MLDataUtils"
   ]
  },
  {
   "cell_type": "markdown",
   "metadata": {},
   "source": [
    "## 讀取資料"
   ]
  },
  {
   "cell_type": "code",
   "execution_count": 8,
   "metadata": {},
   "outputs": [
    {
     "data": {
      "text/html": [
       "<table class=\"data-frame\"><thead><tr><th></th><th>Crim</th><th>Zn</th><th>Indus</th><th>Chas</th><th>NOx</th><th>Rm</th><th>Age</th><th>Dis</th><th>Rad</th><th>Tax</th></tr><tr><th></th><th>Float64</th><th>Float64</th><th>Float64</th><th>Int64</th><th>Float64</th><th>Float64</th><th>Float64</th><th>Float64</th><th>Int64</th><th>Int64</th></tr></thead><tbody><p>10 rows × 14 columns (omitted printing of 4 columns)</p><tr><th>1</th><td>0.00632</td><td>18.0</td><td>2.31</td><td>0</td><td>0.538</td><td>6.575</td><td>65.2</td><td>4.09</td><td>1</td><td>296</td></tr><tr><th>2</th><td>0.02731</td><td>0.0</td><td>7.07</td><td>0</td><td>0.469</td><td>6.421</td><td>78.9</td><td>4.9671</td><td>2</td><td>242</td></tr><tr><th>3</th><td>0.02729</td><td>0.0</td><td>7.07</td><td>0</td><td>0.469</td><td>7.185</td><td>61.1</td><td>4.9671</td><td>2</td><td>242</td></tr><tr><th>4</th><td>0.03237</td><td>0.0</td><td>2.18</td><td>0</td><td>0.458</td><td>6.998</td><td>45.8</td><td>6.0622</td><td>3</td><td>222</td></tr><tr><th>5</th><td>0.06905</td><td>0.0</td><td>2.18</td><td>0</td><td>0.458</td><td>7.147</td><td>54.2</td><td>6.0622</td><td>3</td><td>222</td></tr><tr><th>6</th><td>0.02985</td><td>0.0</td><td>2.18</td><td>0</td><td>0.458</td><td>6.43</td><td>58.7</td><td>6.0622</td><td>3</td><td>222</td></tr><tr><th>7</th><td>0.08829</td><td>12.5</td><td>7.87</td><td>0</td><td>0.524</td><td>6.012</td><td>66.6</td><td>5.5605</td><td>5</td><td>311</td></tr><tr><th>8</th><td>0.14455</td><td>12.5</td><td>7.87</td><td>0</td><td>0.524</td><td>6.172</td><td>96.1</td><td>5.9505</td><td>5</td><td>311</td></tr><tr><th>9</th><td>0.21124</td><td>12.5</td><td>7.87</td><td>0</td><td>0.524</td><td>5.631</td><td>100.0</td><td>6.0821</td><td>5</td><td>311</td></tr><tr><th>10</th><td>0.17004</td><td>12.5</td><td>7.87</td><td>0</td><td>0.524</td><td>6.004</td><td>85.9</td><td>6.5921</td><td>5</td><td>311</td></tr></tbody></table>"
      ],
      "text/latex": [
       "\\begin{tabular}{r|ccccccccccc}\n",
       "\t& Crim & Zn & Indus & Chas & NOx & Rm & Age & Dis & Rad & Tax & \\\\\n",
       "\t\\hline\n",
       "\t& Float64 & Float64 & Float64 & Int64 & Float64 & Float64 & Float64 & Float64 & Int64 & Int64 & \\\\\n",
       "\t\\hline\n",
       "\t1 & 0.00632 & 18.0 & 2.31 & 0 & 0.538 & 6.575 & 65.2 & 4.09 & 1 & 296 & $\\dots$ \\\\\n",
       "\t2 & 0.02731 & 0.0 & 7.07 & 0 & 0.469 & 6.421 & 78.9 & 4.9671 & 2 & 242 & $\\dots$ \\\\\n",
       "\t3 & 0.02729 & 0.0 & 7.07 & 0 & 0.469 & 7.185 & 61.1 & 4.9671 & 2 & 242 & $\\dots$ \\\\\n",
       "\t4 & 0.03237 & 0.0 & 2.18 & 0 & 0.458 & 6.998 & 45.8 & 6.0622 & 3 & 222 & $\\dots$ \\\\\n",
       "\t5 & 0.06905 & 0.0 & 2.18 & 0 & 0.458 & 7.147 & 54.2 & 6.0622 & 3 & 222 & $\\dots$ \\\\\n",
       "\t6 & 0.02985 & 0.0 & 2.18 & 0 & 0.458 & 6.43 & 58.7 & 6.0622 & 3 & 222 & $\\dots$ \\\\\n",
       "\t7 & 0.08829 & 12.5 & 7.87 & 0 & 0.524 & 6.012 & 66.6 & 5.5605 & 5 & 311 & $\\dots$ \\\\\n",
       "\t8 & 0.14455 & 12.5 & 7.87 & 0 & 0.524 & 6.172 & 96.1 & 5.9505 & 5 & 311 & $\\dots$ \\\\\n",
       "\t9 & 0.21124 & 12.5 & 7.87 & 0 & 0.524 & 5.631 & 100.0 & 6.0821 & 5 & 311 & $\\dots$ \\\\\n",
       "\t10 & 0.17004 & 12.5 & 7.87 & 0 & 0.524 & 6.004 & 85.9 & 6.5921 & 5 & 311 & $\\dots$ \\\\\n",
       "\\end{tabular}\n"
      ],
      "text/plain": [
       "10×14 DataFrame. Omitted printing of 7 columns\n",
       "│ Row │ Crim    │ Zn      │ Indus   │ Chas  │ NOx     │ Rm      │ Age     │\n",
       "│     │ \u001b[90mFloat64\u001b[39m │ \u001b[90mFloat64\u001b[39m │ \u001b[90mFloat64\u001b[39m │ \u001b[90mInt64\u001b[39m │ \u001b[90mFloat64\u001b[39m │ \u001b[90mFloat64\u001b[39m │ \u001b[90mFloat64\u001b[39m │\n",
       "├─────┼─────────┼─────────┼─────────┼───────┼─────────┼─────────┼─────────┤\n",
       "│ 1   │ 0.00632 │ 18.0    │ 2.31    │ 0     │ 0.538   │ 6.575   │ 65.2    │\n",
       "│ 2   │ 0.02731 │ 0.0     │ 7.07    │ 0     │ 0.469   │ 6.421   │ 78.9    │\n",
       "│ 3   │ 0.02729 │ 0.0     │ 7.07    │ 0     │ 0.469   │ 7.185   │ 61.1    │\n",
       "│ 4   │ 0.03237 │ 0.0     │ 2.18    │ 0     │ 0.458   │ 6.998   │ 45.8    │\n",
       "│ 5   │ 0.06905 │ 0.0     │ 2.18    │ 0     │ 0.458   │ 7.147   │ 54.2    │\n",
       "│ 6   │ 0.02985 │ 0.0     │ 2.18    │ 0     │ 0.458   │ 6.43    │ 58.7    │\n",
       "│ 7   │ 0.08829 │ 12.5    │ 7.87    │ 0     │ 0.524   │ 6.012   │ 66.6    │\n",
       "│ 8   │ 0.14455 │ 12.5    │ 7.87    │ 0     │ 0.524   │ 6.172   │ 96.1    │\n",
       "│ 9   │ 0.21124 │ 12.5    │ 7.87    │ 0     │ 0.524   │ 5.631   │ 100.0   │\n",
       "│ 10  │ 0.17004 │ 12.5    │ 7.87    │ 0     │ 0.524   │ 6.004   │ 85.9    │"
      ]
     },
     "execution_count": 8,
     "metadata": {},
     "output_type": "execute_result"
    }
   ],
   "source": [
    "boston = dataset(\"MASS\", \"Boston\")\n",
    "first(boston, 10)"
   ]
  },
  {
   "cell_type": "code",
   "execution_count": 15,
   "metadata": {},
   "outputs": [
    {
     "data": {
      "text/plain": [
       "506-element Array{Float64,1}:\n",
       " 3.1780538303479458\n",
       " 3.0726933146901194\n",
       " 3.5467396869528134\n",
       " 3.5085558999826545\n",
       " 3.5890591188317256\n",
       " 3.3568971227655755\n",
       " 3.131136910560194\n",
       " 3.299533727885655\n",
       " 2.803360380906535\n",
       " 2.9391619220655967\n",
       " 2.70805020110221\n",
       " 2.9391619220655967\n",
       " 3.077312260546414\n",
       " ⋮\n",
       " 3.1986731175506815\n",
       " 3.139832617527748\n",
       " 2.9806186357439426\n",
       " 2.9069010598473755\n",
       " 3.054001181677967\n",
       " 2.8622008809294686\n",
       " 2.8213788864092133\n",
       " 3.109060958860994\n",
       " 3.0252910757955354\n",
       " 3.173878458937465\n",
       " 3.091042453358316\n",
       " 2.4765384001174837"
      ]
     },
     "execution_count": 15,
     "metadata": {},
     "output_type": "execute_result"
    }
   ],
   "source": [
    "#轉換資料\n",
    "boston[!,:LogMedV] = log.(boston[!, :MedV])"
   ]
  },
  {
   "cell_type": "code",
   "execution_count": 20,
   "metadata": {},
   "outputs": [],
   "source": [
    "#訓練與測試資料集\n",
    "indecies = MLDataUtils.shuffleobs(collect(1:nrow(boston)))\n",
    "train_ind, test_ind = MLDataUtils.splitobs(indecies, at = 0.8);"
   ]
  },
  {
   "cell_type": "code",
   "execution_count": 21,
   "metadata": {},
   "outputs": [
    {
     "data": {
      "text/html": [
       "<table class=\"data-frame\"><thead><tr><th></th><th>Crim</th><th>Zn</th><th>Indus</th><th>Chas</th><th>NOx</th><th>Rm</th><th>Age</th><th>Dis</th><th>Rad</th><th>Tax</th></tr><tr><th></th><th>Float64</th><th>Float64</th><th>Float64</th><th>Int64</th><th>Float64</th><th>Float64</th><th>Float64</th><th>Float64</th><th>Int64</th><th>Int64</th></tr></thead><tbody><p>101 rows × 15 columns (omitted printing of 5 columns)</p><tr><th>1</th><td>0.11747</td><td>12.5</td><td>7.87</td><td>0</td><td>0.524</td><td>6.009</td><td>82.9</td><td>6.2267</td><td>5</td><td>311</td></tr><tr><th>2</th><td>15.0234</td><td>0.0</td><td>18.1</td><td>0</td><td>0.614</td><td>5.304</td><td>97.3</td><td>2.1007</td><td>24</td><td>666</td></tr><tr><th>3</th><td>0.05646</td><td>0.0</td><td>12.83</td><td>0</td><td>0.437</td><td>6.232</td><td>53.7</td><td>5.0141</td><td>5</td><td>398</td></tr><tr><th>4</th><td>0.24522</td><td>0.0</td><td>9.9</td><td>0</td><td>0.544</td><td>5.782</td><td>71.7</td><td>4.0317</td><td>4</td><td>304</td></tr><tr><th>5</th><td>0.03705</td><td>20.0</td><td>3.33</td><td>0</td><td>0.4429</td><td>6.968</td><td>37.2</td><td>5.2447</td><td>5</td><td>216</td></tr><tr><th>6</th><td>1.25179</td><td>0.0</td><td>8.14</td><td>0</td><td>0.538</td><td>5.57</td><td>98.1</td><td>3.7979</td><td>4</td><td>307</td></tr><tr><th>7</th><td>0.34109</td><td>0.0</td><td>7.38</td><td>0</td><td>0.493</td><td>6.415</td><td>40.1</td><td>4.7211</td><td>5</td><td>287</td></tr><tr><th>8</th><td>1.23247</td><td>0.0</td><td>8.14</td><td>0</td><td>0.538</td><td>6.142</td><td>91.7</td><td>3.9769</td><td>4</td><td>307</td></tr><tr><th>9</th><td>0.02985</td><td>0.0</td><td>2.18</td><td>0</td><td>0.458</td><td>6.43</td><td>58.7</td><td>6.0622</td><td>3</td><td>222</td></tr><tr><th>10</th><td>0.1403</td><td>22.0</td><td>5.86</td><td>0</td><td>0.431</td><td>6.487</td><td>13.0</td><td>7.3967</td><td>7</td><td>330</td></tr><tr><th>11</th><td>1.13081</td><td>0.0</td><td>8.14</td><td>0</td><td>0.538</td><td>5.713</td><td>94.1</td><td>4.233</td><td>4</td><td>307</td></tr><tr><th>12</th><td>1.19294</td><td>0.0</td><td>21.89</td><td>0</td><td>0.624</td><td>6.326</td><td>97.7</td><td>2.271</td><td>4</td><td>437</td></tr><tr><th>13</th><td>0.04297</td><td>52.5</td><td>5.32</td><td>0</td><td>0.405</td><td>6.565</td><td>22.9</td><td>7.3172</td><td>6</td><td>293</td></tr><tr><th>14</th><td>0.65665</td><td>20.0</td><td>3.97</td><td>0</td><td>0.647</td><td>6.842</td><td>100.0</td><td>2.0107</td><td>5</td><td>264</td></tr><tr><th>15</th><td>7.40389</td><td>0.0</td><td>18.1</td><td>0</td><td>0.597</td><td>5.617</td><td>97.9</td><td>1.4547</td><td>24</td><td>666</td></tr><tr><th>16</th><td>2.01019</td><td>0.0</td><td>19.58</td><td>0</td><td>0.605</td><td>7.929</td><td>96.2</td><td>2.0459</td><td>5</td><td>403</td></tr><tr><th>17</th><td>0.05602</td><td>0.0</td><td>2.46</td><td>0</td><td>0.488</td><td>7.831</td><td>53.6</td><td>3.1992</td><td>3</td><td>193</td></tr><tr><th>18</th><td>5.58107</td><td>0.0</td><td>18.1</td><td>0</td><td>0.713</td><td>6.436</td><td>87.9</td><td>2.3158</td><td>24</td><td>666</td></tr><tr><th>19</th><td>0.06263</td><td>0.0</td><td>11.93</td><td>0</td><td>0.573</td><td>6.593</td><td>69.1</td><td>2.4786</td><td>1</td><td>273</td></tr><tr><th>20</th><td>9.72418</td><td>0.0</td><td>18.1</td><td>0</td><td>0.74</td><td>6.406</td><td>97.2</td><td>2.0651</td><td>24</td><td>666</td></tr><tr><th>21</th><td>5.66637</td><td>0.0</td><td>18.1</td><td>0</td><td>0.74</td><td>6.219</td><td>100.0</td><td>2.0048</td><td>24</td><td>666</td></tr><tr><th>22</th><td>0.63796</td><td>0.0</td><td>8.14</td><td>0</td><td>0.538</td><td>6.096</td><td>84.5</td><td>4.4619</td><td>4</td><td>307</td></tr><tr><th>23</th><td>0.08829</td><td>12.5</td><td>7.87</td><td>0</td><td>0.524</td><td>6.012</td><td>66.6</td><td>5.5605</td><td>5</td><td>311</td></tr><tr><th>24</th><td>8.71675</td><td>0.0</td><td>18.1</td><td>0</td><td>0.693</td><td>6.471</td><td>98.8</td><td>1.7257</td><td>24</td><td>666</td></tr><tr><th>25</th><td>0.12329</td><td>0.0</td><td>10.01</td><td>0</td><td>0.547</td><td>5.913</td><td>92.9</td><td>2.3534</td><td>6</td><td>432</td></tr><tr><th>26</th><td>73.5341</td><td>0.0</td><td>18.1</td><td>0</td><td>0.679</td><td>5.957</td><td>100.0</td><td>1.8026</td><td>24</td><td>666</td></tr><tr><th>27</th><td>0.33045</td><td>0.0</td><td>6.2</td><td>0</td><td>0.507</td><td>6.086</td><td>61.5</td><td>3.6519</td><td>8</td><td>307</td></tr><tr><th>28</th><td>0.37578</td><td>0.0</td><td>10.59</td><td>1</td><td>0.489</td><td>5.404</td><td>88.6</td><td>3.665</td><td>4</td><td>277</td></tr><tr><th>29</th><td>0.10153</td><td>0.0</td><td>12.83</td><td>0</td><td>0.437</td><td>6.279</td><td>74.5</td><td>4.0522</td><td>5</td><td>398</td></tr><tr><th>30</th><td>0.06417</td><td>0.0</td><td>5.96</td><td>0</td><td>0.499</td><td>5.933</td><td>68.2</td><td>3.3603</td><td>5</td><td>279</td></tr><tr><th>&vellip;</th><td>&vellip;</td><td>&vellip;</td><td>&vellip;</td><td>&vellip;</td><td>&vellip;</td><td>&vellip;</td><td>&vellip;</td><td>&vellip;</td><td>&vellip;</td><td>&vellip;</td></tr></tbody></table>"
      ],
      "text/latex": [
       "\\begin{tabular}{r|ccccccccccc}\n",
       "\t& Crim & Zn & Indus & Chas & NOx & Rm & Age & Dis & Rad & Tax & \\\\\n",
       "\t\\hline\n",
       "\t& Float64 & Float64 & Float64 & Int64 & Float64 & Float64 & Float64 & Float64 & Int64 & Int64 & \\\\\n",
       "\t\\hline\n",
       "\t1 & 0.11747 & 12.5 & 7.87 & 0 & 0.524 & 6.009 & 82.9 & 6.2267 & 5 & 311 & $\\dots$ \\\\\n",
       "\t2 & 15.0234 & 0.0 & 18.1 & 0 & 0.614 & 5.304 & 97.3 & 2.1007 & 24 & 666 & $\\dots$ \\\\\n",
       "\t3 & 0.05646 & 0.0 & 12.83 & 0 & 0.437 & 6.232 & 53.7 & 5.0141 & 5 & 398 & $\\dots$ \\\\\n",
       "\t4 & 0.24522 & 0.0 & 9.9 & 0 & 0.544 & 5.782 & 71.7 & 4.0317 & 4 & 304 & $\\dots$ \\\\\n",
       "\t5 & 0.03705 & 20.0 & 3.33 & 0 & 0.4429 & 6.968 & 37.2 & 5.2447 & 5 & 216 & $\\dots$ \\\\\n",
       "\t6 & 1.25179 & 0.0 & 8.14 & 0 & 0.538 & 5.57 & 98.1 & 3.7979 & 4 & 307 & $\\dots$ \\\\\n",
       "\t7 & 0.34109 & 0.0 & 7.38 & 0 & 0.493 & 6.415 & 40.1 & 4.7211 & 5 & 287 & $\\dots$ \\\\\n",
       "\t8 & 1.23247 & 0.0 & 8.14 & 0 & 0.538 & 6.142 & 91.7 & 3.9769 & 4 & 307 & $\\dots$ \\\\\n",
       "\t9 & 0.02985 & 0.0 & 2.18 & 0 & 0.458 & 6.43 & 58.7 & 6.0622 & 3 & 222 & $\\dots$ \\\\\n",
       "\t10 & 0.1403 & 22.0 & 5.86 & 0 & 0.431 & 6.487 & 13.0 & 7.3967 & 7 & 330 & $\\dots$ \\\\\n",
       "\t11 & 1.13081 & 0.0 & 8.14 & 0 & 0.538 & 5.713 & 94.1 & 4.233 & 4 & 307 & $\\dots$ \\\\\n",
       "\t12 & 1.19294 & 0.0 & 21.89 & 0 & 0.624 & 6.326 & 97.7 & 2.271 & 4 & 437 & $\\dots$ \\\\\n",
       "\t13 & 0.04297 & 52.5 & 5.32 & 0 & 0.405 & 6.565 & 22.9 & 7.3172 & 6 & 293 & $\\dots$ \\\\\n",
       "\t14 & 0.65665 & 20.0 & 3.97 & 0 & 0.647 & 6.842 & 100.0 & 2.0107 & 5 & 264 & $\\dots$ \\\\\n",
       "\t15 & 7.40389 & 0.0 & 18.1 & 0 & 0.597 & 5.617 & 97.9 & 1.4547 & 24 & 666 & $\\dots$ \\\\\n",
       "\t16 & 2.01019 & 0.0 & 19.58 & 0 & 0.605 & 7.929 & 96.2 & 2.0459 & 5 & 403 & $\\dots$ \\\\\n",
       "\t17 & 0.05602 & 0.0 & 2.46 & 0 & 0.488 & 7.831 & 53.6 & 3.1992 & 3 & 193 & $\\dots$ \\\\\n",
       "\t18 & 5.58107 & 0.0 & 18.1 & 0 & 0.713 & 6.436 & 87.9 & 2.3158 & 24 & 666 & $\\dots$ \\\\\n",
       "\t19 & 0.06263 & 0.0 & 11.93 & 0 & 0.573 & 6.593 & 69.1 & 2.4786 & 1 & 273 & $\\dots$ \\\\\n",
       "\t20 & 9.72418 & 0.0 & 18.1 & 0 & 0.74 & 6.406 & 97.2 & 2.0651 & 24 & 666 & $\\dots$ \\\\\n",
       "\t21 & 5.66637 & 0.0 & 18.1 & 0 & 0.74 & 6.219 & 100.0 & 2.0048 & 24 & 666 & $\\dots$ \\\\\n",
       "\t22 & 0.63796 & 0.0 & 8.14 & 0 & 0.538 & 6.096 & 84.5 & 4.4619 & 4 & 307 & $\\dots$ \\\\\n",
       "\t23 & 0.08829 & 12.5 & 7.87 & 0 & 0.524 & 6.012 & 66.6 & 5.5605 & 5 & 311 & $\\dots$ \\\\\n",
       "\t24 & 8.71675 & 0.0 & 18.1 & 0 & 0.693 & 6.471 & 98.8 & 1.7257 & 24 & 666 & $\\dots$ \\\\\n",
       "\t25 & 0.12329 & 0.0 & 10.01 & 0 & 0.547 & 5.913 & 92.9 & 2.3534 & 6 & 432 & $\\dots$ \\\\\n",
       "\t26 & 73.5341 & 0.0 & 18.1 & 0 & 0.679 & 5.957 & 100.0 & 1.8026 & 24 & 666 & $\\dots$ \\\\\n",
       "\t27 & 0.33045 & 0.0 & 6.2 & 0 & 0.507 & 6.086 & 61.5 & 3.6519 & 8 & 307 & $\\dots$ \\\\\n",
       "\t28 & 0.37578 & 0.0 & 10.59 & 1 & 0.489 & 5.404 & 88.6 & 3.665 & 4 & 277 & $\\dots$ \\\\\n",
       "\t29 & 0.10153 & 0.0 & 12.83 & 0 & 0.437 & 6.279 & 74.5 & 4.0522 & 5 & 398 & $\\dots$ \\\\\n",
       "\t30 & 0.06417 & 0.0 & 5.96 & 0 & 0.499 & 5.933 & 68.2 & 3.3603 & 5 & 279 & $\\dots$ \\\\\n",
       "\t$\\dots$ & $\\dots$ & $\\dots$ & $\\dots$ & $\\dots$ & $\\dots$ & $\\dots$ & $\\dots$ & $\\dots$ & $\\dots$ & $\\dots$ &  \\\\\n",
       "\\end{tabular}\n"
      ],
      "text/plain": [
       "101×15 DataFrame. Omitted printing of 8 columns\n",
       "│ Row │ Crim    │ Zn      │ Indus   │ Chas  │ NOx     │ Rm      │ Age     │\n",
       "│     │ \u001b[90mFloat64\u001b[39m │ \u001b[90mFloat64\u001b[39m │ \u001b[90mFloat64\u001b[39m │ \u001b[90mInt64\u001b[39m │ \u001b[90mFloat64\u001b[39m │ \u001b[90mFloat64\u001b[39m │ \u001b[90mFloat64\u001b[39m │\n",
       "├─────┼─────────┼─────────┼─────────┼───────┼─────────┼─────────┼─────────┤\n",
       "│ 1   │ 0.11747 │ 12.5    │ 7.87    │ 0     │ 0.524   │ 6.009   │ 82.9    │\n",
       "│ 2   │ 15.0234 │ 0.0     │ 18.1    │ 0     │ 0.614   │ 5.304   │ 97.3    │\n",
       "│ 3   │ 0.05646 │ 0.0     │ 12.83   │ 0     │ 0.437   │ 6.232   │ 53.7    │\n",
       "│ 4   │ 0.24522 │ 0.0     │ 9.9     │ 0     │ 0.544   │ 5.782   │ 71.7    │\n",
       "│ 5   │ 0.03705 │ 20.0    │ 3.33    │ 0     │ 0.4429  │ 6.968   │ 37.2    │\n",
       "│ 6   │ 1.25179 │ 0.0     │ 8.14    │ 0     │ 0.538   │ 5.57    │ 98.1    │\n",
       "│ 7   │ 0.34109 │ 0.0     │ 7.38    │ 0     │ 0.493   │ 6.415   │ 40.1    │\n",
       "│ 8   │ 1.23247 │ 0.0     │ 8.14    │ 0     │ 0.538   │ 6.142   │ 91.7    │\n",
       "│ 9   │ 0.02985 │ 0.0     │ 2.18    │ 0     │ 0.458   │ 6.43    │ 58.7    │\n",
       "│ 10  │ 0.1403  │ 22.0    │ 5.86    │ 0     │ 0.431   │ 6.487   │ 13.0    │\n",
       "⋮\n",
       "│ 91  │ 0.17142 │ 0.0     │ 6.91    │ 0     │ 0.448   │ 5.682   │ 33.8    │\n",
       "│ 92  │ 28.6558 │ 0.0     │ 18.1    │ 0     │ 0.597   │ 5.155   │ 100.0   │\n",
       "│ 93  │ 0.06466 │ 70.0    │ 2.24    │ 0     │ 0.4     │ 6.345   │ 20.1    │\n",
       "│ 94  │ 0.54452 │ 0.0     │ 21.89   │ 0     │ 0.624   │ 6.151   │ 97.9    │\n",
       "│ 95  │ 0.02177 │ 82.5    │ 2.03    │ 0     │ 0.415   │ 7.61    │ 15.7    │\n",
       "│ 96  │ 0.59005 │ 0.0     │ 21.89   │ 0     │ 0.624   │ 6.372   │ 97.9    │\n",
       "│ 97  │ 0.02498 │ 0.0     │ 1.89    │ 0     │ 0.518   │ 6.54    │ 59.7    │\n",
       "│ 98  │ 2.73397 │ 0.0     │ 19.58   │ 0     │ 0.871   │ 5.597   │ 94.9    │\n",
       "│ 99  │ 0.05188 │ 0.0     │ 4.49    │ 0     │ 0.449   │ 6.015   │ 45.1    │\n",
       "│ 100 │ 0.13554 │ 12.5    │ 6.07    │ 0     │ 0.409   │ 5.594   │ 36.8    │\n",
       "│ 101 │ 0.32543 │ 0.0     │ 21.89   │ 0     │ 0.624   │ 6.431   │ 98.8    │"
      ]
     },
     "execution_count": 21,
     "metadata": {},
     "output_type": "execute_result"
    }
   ],
   "source": [
    "train = boston[train_ind, :]\n",
    "test = boston[test_ind, :]"
   ]
  },
  {
   "cell_type": "code",
   "execution_count": 22,
   "metadata": {},
   "outputs": [
    {
     "data": {
      "text/plain": [
       "StatsModels.TableRegressionModel{LinearModel{GLM.LmResp{Array{Float64,1}},GLM.DensePredChol{Float64,LinearAlgebra.Cholesky{Float64,Array{Float64,2}}}},Array{Float64,2}}\n",
       "\n",
       "LogMedV ~ 1 + Crim + Chas + NOx + Rm + Dis + Rad + Tax + PTRatio + Black + LStat\n",
       "\n",
       "Coefficients:\n",
       "───────────────────────────────────────────────────────────────────────────────────────\n",
       "                 Estimate   Std. Error    t value  Pr(>|t|)     Lower 95%     Upper 95%\n",
       "───────────────────────────────────────────────────────────────────────────────────────\n",
       "(Intercept)   4.30951      0.233032      18.4932     <1e-54   3.85137       4.76765\n",
       "Crim         -0.0110484    0.00151333    -7.30075    <1e-11  -0.0140236    -0.00807322\n",
       "Chas          0.103835     0.0375335      2.76645    0.0059   0.0300437     0.177626\n",
       "NOx          -0.835696     0.164455      -5.08162    <1e-6   -1.15901      -0.512378\n",
       "Rm            0.0812661    0.0178325      4.5572     <1e-5    0.0462075     0.116325\n",
       "Dis          -0.0443144    0.00733629    -6.04044    <1e-8   -0.0587376    -0.0298912\n",
       "Rad           0.0156064    0.00306427     5.09303    <1e-6    0.00958207    0.0216308\n",
       "Tax          -0.000602351  0.000159455   -3.77757    0.0002  -0.000915839  -0.000288863\n",
       "PTRatio      -0.0432002    0.00567296    -7.6151     <1e-12  -0.0543532    -0.0320471\n",
       "Black         0.00039657   0.000117967    3.36171    0.0009   0.000164647   0.000628494\n",
       "LStat        -0.0291472    0.00210162   -13.8689     <1e-35  -0.033279     -0.0250154\n",
       "───────────────────────────────────────────────────────────────────────────────────────"
      ]
     },
     "execution_count": 22,
     "metadata": {},
     "output_type": "execute_result"
    }
   ],
   "source": [
    "#使用線性迴歸模型\n",
    "model = lm(@formula(LogMedV ~ Crim + Chas + NOx + Rm + Dis + Rad + Tax + PTRatio + Black + LStat), train)"
   ]
  },
  {
   "cell_type": "code",
   "execution_count": 23,
   "metadata": {},
   "outputs": [
    {
     "data": {
      "text/plain": [
       "101-element Array{Float64,1}:\n",
       " 21.919422691543147\n",
       " 11.960746404583979\n",
       " 21.156529933660764\n",
       " 18.552729783519712\n",
       " 36.554957562297\n",
       " 13.97660421884797\n",
       " 25.61815338039068\n",
       " 15.662214238759809\n",
       " 26.843394960658586\n",
       " 24.970489550984247\n",
       " 13.177422491248228\n",
       " 17.667242276383455\n",
       " 25.79239356312155\n",
       "  ⋮\n",
       " 31.513450433187536\n",
       " 23.616551894720587\n",
       " 11.491662467927007\n",
       " 29.004827423900625\n",
       " 15.038784465866428\n",
       " 35.013589817955605\n",
       " 18.327856866968563\n",
       " 22.357483791607557\n",
       " 14.199585778213745\n",
       " 22.36222002438967\n",
       " 19.045867365533997\n",
       " 16.75869368382322"
      ]
     },
     "execution_count": 23,
     "metadata": {},
     "output_type": "execute_result"
    }
   ],
   "source": [
    "#預測\n",
    "exp.(predict(model,test))"
   ]
  },
  {
   "cell_type": "code",
   "execution_count": 24,
   "metadata": {},
   "outputs": [
    {
     "data": {
      "text/plain": [
       "0.7884305850248672"
      ]
     },
     "execution_count": 24,
     "metadata": {},
     "output_type": "execute_result"
    }
   ],
   "source": [
    "#評估模型\n",
    "adjr2(model)"
   ]
  },
  {
   "cell_type": "code",
   "execution_count": null,
   "metadata": {},
   "outputs": [],
   "source": []
  }
 ],
 "metadata": {
  "kernelspec": {
   "display_name": "Julia 1.4.0",
   "language": "julia",
   "name": "julia-1.4"
  },
  "language_info": {
   "file_extension": ".jl",
   "mimetype": "application/julia",
   "name": "julia",
   "version": "1.4.0"
  }
 },
 "nbformat": 4,
 "nbformat_minor": 4
}
