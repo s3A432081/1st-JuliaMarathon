{
 "cells": [
  {
   "cell_type": "markdown",
   "metadata": {},
   "source": [
    "# Julia 機器學習：GLM 線性迴歸"
   ]
  },
  {
   "cell_type": "markdown",
   "metadata": {},
   "source": [
    "本範例需要使用到的套件有 GLM、RDatasets、MLDataUtils，請在執行以下範例前先安裝。\n",
    "\n",
    "```\n",
    "] add GLM\n",
    "] add RDatasets\n",
    "] add MLDataUtils\n",
    "```"
   ]
  },
  {
   "cell_type": "code",
   "execution_count": 4,
   "metadata": {},
   "outputs": [
    {
     "name": "stderr",
     "output_type": "stream",
     "text": [
      "┌ Info: Precompiling GLM [38e38edf-8417-5370-95a0-9cbb8c7f171a]\n",
      "└ @ Base loading.jl:1260\n",
      "┌ Info: Precompiling MLDataUtils [cc2ba9b6-d476-5e6d-8eaf-a92d5412d41d]\n",
      "└ @ Base loading.jl:1260\n"
     ]
    }
   ],
   "source": [
    "using GLM\n",
    "using RDatasets\n",
    "using MLDataUtils\n",
    "using Statistics"
   ]
  },
  {
   "cell_type": "code",
   "execution_count": 3,
   "metadata": {},
   "outputs": [
    {
     "name": "stderr",
     "output_type": "stream",
     "text": [
      "\u001b[32m\u001b[1m   Updating\u001b[22m\u001b[39m registry at `C:\\Users\\s7070\\.julia\\registries\\General`"
     ]
    },
    {
     "name": "stdout",
     "output_type": "stream",
     "text": [
      "\u001b[?25l"
     ]
    },
    {
     "name": "stderr",
     "output_type": "stream",
     "text": [
      "\n",
      "\u001b[32m\u001b[1m   Updating\u001b[22m\u001b[39m git-repo `https://github.com/JuliaRegistries/General.git`\n"
     ]
    },
    {
     "name": "stdout",
     "output_type": "stream",
     "text": [
      "    \u001b[36m\u001b[1mFetching:\u001b[22m\u001b[39m [>                                        ]  0.0 %\r",
      "    \u001b[36m\u001b[1mFetching:\u001b[22m\u001b[39m [=>                                       ]  0.3 %\r",
      "    \u001b[36m\u001b[1mFetching:\u001b[22m\u001b[39m [=>                                       ]  0.6 %\r",
      "    \u001b[36m\u001b[1mFetching:\u001b[22m\u001b[39m [=>                                       ]  1.0 %\r",
      "    \u001b[36m\u001b[1mFetching:\u001b[22m\u001b[39m [=>                                       ]  1.3 %\r",
      "    \u001b[36m\u001b[1mFetching:\u001b[22m\u001b[39m [=>                                       ]  1.6 %\r",
      "    \u001b[36m\u001b[1mFetching:\u001b[22m\u001b[39m [=>                                       ]  1.9 %\r",
      "    \u001b[36m\u001b[1mFetching:\u001b[22m\u001b[39m [=>                                       ]  2.3 %\r",
      "    \u001b[36m\u001b[1mFetching:\u001b[22m\u001b[39m [==>                                      ]  2.6 %\r",
      "    \u001b[36m\u001b[1mFetching:\u001b[22m\u001b[39m [==>                                      ]  2.9 %\r",
      "    \u001b[36m\u001b[1mFetching:\u001b[22m\u001b[39m [==>                                      ]  3.2 %\r",
      "    \u001b[36m\u001b[1mFetching:\u001b[22m\u001b[39m [==>                                      ]  3.5 %\r",
      "    \u001b[36m\u001b[1mFetching:\u001b[22m\u001b[39m [==>                                      ]  3.9 %\r",
      "    \u001b[36m\u001b[1mFetching:\u001b[22m\u001b[39m [==>                                      ]  4.2 %\r",
      "    \u001b[36m\u001b[1mFetching:\u001b[22m\u001b[39m [==>                                      ]  4.5 %\r",
      "    \u001b[36m\u001b[1mFetching:\u001b[22m\u001b[39m [==>                                      ]  4.8 %\r",
      "    \u001b[36m\u001b[1mFetching:\u001b[22m\u001b[39m [===>                                     ]  5.1 %\r",
      "    \u001b[36m\u001b[1mFetching:\u001b[22m\u001b[39m [===>                                     ]  5.5 %\r",
      "    \u001b[36m\u001b[1mFetching:\u001b[22m\u001b[39m [===>                                     ]  5.8 %\r",
      "    \u001b[36m\u001b[1mFetching:\u001b[22m\u001b[39m [===>                                     ]  6.1 %\r",
      "    \u001b[36m\u001b[1mFetching:\u001b[22m\u001b[39m [===>                                     ]  6.4 %\r",
      "    \u001b[36m\u001b[1mFetching:\u001b[22m\u001b[39m [===>                                     ]  6.8 %\r",
      "    \u001b[36m\u001b[1mFetching:\u001b[22m\u001b[39m [===>                                     ]  7.1 %\r",
      "    \u001b[36m\u001b[1mFetching:\u001b[22m\u001b[39m [===>                                     ]  7.4 %\r",
      "    \u001b[36m\u001b[1mFetching:\u001b[22m\u001b[39m [====>                                    ]  7.7 %\r",
      "    \u001b[36m\u001b[1mFetching:\u001b[22m\u001b[39m [====>                                    ]  8.0 %\r",
      "    \u001b[36m\u001b[1mFetching:\u001b[22m\u001b[39m [====>                                    ]  8.4 %\r",
      "    \u001b[36m\u001b[1mFetching:\u001b[22m\u001b[39m [====>                                    ]  8.7 %\r",
      "    \u001b[36m\u001b[1mFetching:\u001b[22m\u001b[39m [====>                                    ]  9.0 %\r",
      "    \u001b[36m\u001b[1mFetching:\u001b[22m\u001b[39m [====>                                    ]  9.3 %\r",
      "    \u001b[36m\u001b[1mFetching:\u001b[22m\u001b[39m [====>                                    ]  9.6 %\r",
      "    \u001b[36m\u001b[1mFetching:\u001b[22m\u001b[39m [====>                                    ]  10.0 %\r",
      "    \u001b[36m\u001b[1mFetching:\u001b[22m\u001b[39m [=====>                                   ]  10.3 %\r",
      "    \u001b[36m\u001b[1mFetching:\u001b[22m\u001b[39m [=====>                                   ]  10.6 %\r",
      "    \u001b[36m\u001b[1mFetching:\u001b[22m\u001b[39m [=====>                                   ]  10.9 %\r",
      "    \u001b[36m\u001b[1mFetching:\u001b[22m\u001b[39m [=====>                                   ]  11.3 %\r",
      "    \u001b[36m\u001b[1mFetching:\u001b[22m\u001b[39m [=====>                                   ]  11.6 %\r",
      "    \u001b[36m\u001b[1mFetching:\u001b[22m\u001b[39m [=====>                                   ]  11.9 %\r",
      "    \u001b[36m\u001b[1mFetching:\u001b[22m\u001b[39m [=====>                                   ]  12.2 %\r",
      "    \u001b[36m\u001b[1mFetching:\u001b[22m\u001b[39m [======>                                  ]  12.5 %\r",
      "    \u001b[36m\u001b[1mFetching:\u001b[22m\u001b[39m [======>                                  ]  12.9 %\r",
      "    \u001b[36m\u001b[1mFetching:\u001b[22m\u001b[39m [======>                                  ]  13.2 %\r",
      "    \u001b[36m\u001b[1mFetching:\u001b[22m\u001b[39m [======>                                  ]  13.5 %\r",
      "    \u001b[36m\u001b[1mFetching:\u001b[22m\u001b[39m [======>                                  ]  13.8 %\r",
      "    \u001b[36m\u001b[1mFetching:\u001b[22m\u001b[39m [======>                                  ]  14.1 %\r",
      "    \u001b[36m\u001b[1mFetching:\u001b[22m\u001b[39m [======>                                  ]  14.5 %\r",
      "    \u001b[36m\u001b[1mFetching:\u001b[22m\u001b[39m [======>                                  ]  14.8 %\r",
      "    \u001b[36m\u001b[1mFetching:\u001b[22m\u001b[39m [=======>                                 ]  15.1 %\r",
      "    \u001b[36m\u001b[1mFetching:\u001b[22m\u001b[39m [=======>                                 ]  15.4 %\r",
      "    \u001b[36m\u001b[1mFetching:\u001b[22m\u001b[39m [=======>                                 ]  15.8 %\r",
      "    \u001b[36m\u001b[1mFetching:\u001b[22m\u001b[39m [=======>                                 ]  16.1 %\r",
      "    \u001b[36m\u001b[1mFetching:\u001b[22m\u001b[39m [=======>                                 ]  16.4 %\r",
      "    \u001b[36m\u001b[1mFetching:\u001b[22m\u001b[39m [=======>                                 ]  16.7 %\r",
      "    \u001b[36m\u001b[1mFetching:\u001b[22m\u001b[39m [=======>                                 ]  17.0 %\r",
      "    \u001b[36m\u001b[1mFetching:\u001b[22m\u001b[39m [=======>                                 ]  17.4 %\r",
      "    \u001b[36m\u001b[1mFetching:\u001b[22m\u001b[39m [========>                                ]  17.7 %\r",
      "    \u001b[36m\u001b[1mFetching:\u001b[22m\u001b[39m [========>                                ]  18.0 %\r",
      "    \u001b[36m\u001b[1mFetching:\u001b[22m\u001b[39m [========>                                ]  18.3 %\r",
      "    \u001b[36m\u001b[1mFetching:\u001b[22m\u001b[39m [========>                                ]  18.6 %\r",
      "    \u001b[36m\u001b[1mFetching:\u001b[22m\u001b[39m [========>                                ]  19.0 %\r",
      "    \u001b[36m\u001b[1mFetching:\u001b[22m\u001b[39m [========>                                ]  19.3 %\r",
      "    \u001b[36m\u001b[1mFetching:\u001b[22m\u001b[39m [========>                                ]  19.6 %\r",
      "    \u001b[36m\u001b[1mFetching:\u001b[22m\u001b[39m [========>                                ]  19.9 %\r",
      "    \u001b[36m\u001b[1mFetching:\u001b[22m\u001b[39m [=========>                               ]  20.3 %\r",
      "    \u001b[36m\u001b[1mFetching:\u001b[22m\u001b[39m [=========>                               ]  20.6 %\r",
      "    \u001b[36m\u001b[1mFetching:\u001b[22m\u001b[39m [=========>                               ]  20.9 %\r",
      "    \u001b[36m\u001b[1mFetching:\u001b[22m\u001b[39m [=========>                               ]  21.2 %\r",
      "    \u001b[36m\u001b[1mFetching:\u001b[22m\u001b[39m [=========>                               ]  21.5 %\r",
      "    \u001b[36m\u001b[1mFetching:\u001b[22m\u001b[39m [=========>                               ]  21.9 %\r",
      "    \u001b[36m\u001b[1mFetching:\u001b[22m\u001b[39m [=========>                               ]  22.2 %\r",
      "    \u001b[36m\u001b[1mFetching:\u001b[22m\u001b[39m [==========>                              ]  22.5 %\r",
      "    \u001b[36m\u001b[1mFetching:\u001b[22m\u001b[39m [==========>                              ]  22.8 %\r",
      "    \u001b[36m\u001b[1mFetching:\u001b[22m\u001b[39m [==========>                              ]  23.2 %\r",
      "    \u001b[36m\u001b[1mFetching:\u001b[22m\u001b[39m [==========>                              ]  23.5 %\r",
      "    \u001b[36m\u001b[1mFetching:\u001b[22m\u001b[39m [==========>                              ]  23.8 %\r",
      "    \u001b[36m\u001b[1mFetching:\u001b[22m\u001b[39m [==========>                              ]  24.1 %\r",
      "    \u001b[36m\u001b[1mFetching:\u001b[22m\u001b[39m [==========>                              ]  24.4 %\r",
      "    \u001b[36m\u001b[1mFetching:\u001b[22m\u001b[39m [==========>                              ]  24.8 %\r",
      "    \u001b[36m\u001b[1mFetching:\u001b[22m\u001b[39m [===========>                             ]  25.1 %\r",
      "    \u001b[36m\u001b[1mFetching:\u001b[22m\u001b[39m [===========>                             ]  25.4 %\r",
      "    \u001b[36m\u001b[1mFetching:\u001b[22m\u001b[39m [===========>                             ]  25.7 %\r",
      "    \u001b[36m\u001b[1mFetching:\u001b[22m\u001b[39m [===========>                             ]  26.0 %\r",
      "    \u001b[36m\u001b[1mFetching:\u001b[22m\u001b[39m [===========>                             ]  26.4 %\r",
      "    \u001b[36m\u001b[1mFetching:\u001b[22m\u001b[39m [===========>                             ]  26.7 %\r",
      "    \u001b[36m\u001b[1mFetching:\u001b[22m\u001b[39m [===========>                             ]  27.0 %\r",
      "    \u001b[36m\u001b[1mFetching:\u001b[22m\u001b[39m [===========>                             ]  27.3 %\r",
      "    \u001b[36m\u001b[1mFetching:\u001b[22m\u001b[39m [============>                            ]  27.7 %\r",
      "    \u001b[36m\u001b[1mFetching:\u001b[22m\u001b[39m [============>                            ]  28.0 %\r",
      "    \u001b[36m\u001b[1mFetching:\u001b[22m\u001b[39m [============>                            ]  28.3 %\r",
      "    \u001b[36m\u001b[1mFetching:\u001b[22m\u001b[39m [============>                            ]  28.6 %\r",
      "    \u001b[36m\u001b[1mFetching:\u001b[22m\u001b[39m [============>                            ]  28.9 %\r",
      "    \u001b[36m\u001b[1mFetching:\u001b[22m\u001b[39m [============>                            ]  29.3 %\r",
      "    \u001b[36m\u001b[1mFetching:\u001b[22m\u001b[39m [============>                            ]  29.6 %\r",
      "    \u001b[36m\u001b[1mFetching:\u001b[22m\u001b[39m [============>                            ]  29.9 %\r",
      "    \u001b[36m\u001b[1mFetching:\u001b[22m\u001b[39m [=============>                           ]  30.2 %\r",
      "    \u001b[36m\u001b[1mFetching:\u001b[22m\u001b[39m [=============>                           ]  30.5 %\r",
      "    \u001b[36m\u001b[1mFetching:\u001b[22m\u001b[39m [=============>                           ]  30.9 %\r",
      "    \u001b[36m\u001b[1mFetching:\u001b[22m\u001b[39m [=============>                           ]  31.2 %\r",
      "    \u001b[36m\u001b[1mFetching:\u001b[22m\u001b[39m [=============>                           ]  31.5 %\r",
      "    \u001b[36m\u001b[1mFetching:\u001b[22m\u001b[39m [=============>                           ]  31.8 %\r",
      "    \u001b[36m\u001b[1mFetching:\u001b[22m\u001b[39m [=============>                           ]  32.2 %\r",
      "    \u001b[36m\u001b[1mFetching:\u001b[22m\u001b[39m [=============>                           ]  32.5 %\r",
      "    \u001b[36m\u001b[1mFetching:\u001b[22m\u001b[39m [==============>                          ]  32.8 %\r",
      "    \u001b[36m\u001b[1mFetching:\u001b[22m\u001b[39m [==============>                          ]  33.1 %\r",
      "    \u001b[36m\u001b[1mFetching:\u001b[22m\u001b[39m [==============>                          ]  33.4 %\r",
      "    \u001b[36m\u001b[1mFetching:\u001b[22m\u001b[39m [==============>                          ]  33.8 %\r",
      "    \u001b[36m\u001b[1mFetching:\u001b[22m\u001b[39m [==============>                          ]  34.1 %\r",
      "    \u001b[36m\u001b[1mFetching:\u001b[22m\u001b[39m [==============>                          ]  34.4 %\r",
      "    \u001b[36m\u001b[1mFetching:\u001b[22m\u001b[39m [==============>                          ]  34.7 %\r",
      "    \u001b[36m\u001b[1mFetching:\u001b[22m\u001b[39m [===============>                         ]  35.0 %\r",
      "    \u001b[36m\u001b[1mFetching:\u001b[22m\u001b[39m [===============>                         ]  35.4 %\r",
      "    \u001b[36m\u001b[1mFetching:\u001b[22m\u001b[39m [===============>                         ]  35.7 %\r",
      "    \u001b[36m\u001b[1mFetching:\u001b[22m\u001b[39m [===============>                         ]  36.0 %\r",
      "    \u001b[36m\u001b[1mFetching:\u001b[22m\u001b[39m [===============>                         ]  36.3 %\r",
      "    \u001b[36m\u001b[1mFetching:\u001b[22m\u001b[39m [===============>                         ]  36.7 %\r",
      "    \u001b[36m\u001b[1mFetching:\u001b[22m\u001b[39m [===============>                         ]  37.0 %\r",
      "    \u001b[36m\u001b[1mFetching:\u001b[22m\u001b[39m [===============>                         ]  37.3 %\r",
      "    \u001b[36m\u001b[1mFetching:\u001b[22m\u001b[39m [================>                        ]  37.6 %\r",
      "    \u001b[36m\u001b[1mFetching:\u001b[22m\u001b[39m [================>                        ]  37.9 %\r",
      "    \u001b[36m\u001b[1mFetching:\u001b[22m\u001b[39m [================>                        ]  38.3 %\r",
      "    \u001b[36m\u001b[1mFetching:\u001b[22m\u001b[39m [================>                        "
     ]
    },
    {
     "name": "stdout",
     "output_type": "stream",
     "text": [
      "\u001b[2K\u001b[?25h[1mFetching:\u001b[22m\u001b[39m [========================================>]  100.0 %   ]  92.0 %"
     ]
    },
    {
     "name": "stderr",
     "output_type": "stream",
     "text": [
      "\u001b[32m\u001b[1m  Resolving\u001b[22m\u001b[39m package versions...\n",
      "\u001b[32m\u001b[1m  Installed\u001b[22m\u001b[39m OpenBLAS_jll ── v0.3.9+3\n",
      "\u001b[32m\u001b[1m  Installed\u001b[22m\u001b[39m ShiftedArrays ─ v1.0.0\n",
      "\u001b[32m\u001b[1m  Installed\u001b[22m\u001b[39m StatsModels ─── v0.6.11\n",
      "\u001b[32m\u001b[1m  Installed\u001b[22m\u001b[39m GLM ─────────── v1.3.9\n",
      "\u001b[32m\u001b[1m   Updating\u001b[22m\u001b[39m `C:\\Users\\s7070\\.julia\\environments\\v1.4\\Project.toml`\n",
      " \u001b[90m [38e38edf]\u001b[39m\u001b[92m + GLM v1.3.9\u001b[39m\n",
      "\u001b[32m\u001b[1m   Updating\u001b[22m\u001b[39m `C:\\Users\\s7070\\.julia\\environments\\v1.4\\Manifest.toml`\n",
      " \u001b[90m [38e38edf]\u001b[39m\u001b[92m + GLM v1.3.9\u001b[39m\n",
      " \u001b[90m [4536629a]\u001b[39m\u001b[93m ↑ OpenBLAS_jll v0.3.9+2 ⇒ v0.3.9+3\u001b[39m\n",
      " \u001b[90m [1277b4bf]\u001b[39m\u001b[92m + ShiftedArrays v1.0.0\u001b[39m\n",
      " \u001b[90m [3eaba693]\u001b[39m\u001b[92m + StatsModels v0.6.11\u001b[39m\n",
      "\u001b[32m\u001b[1m  Resolving\u001b[22m\u001b[39m package versions...\n",
      "\u001b[32m\u001b[1m   Updating\u001b[22m\u001b[39m `C:\\Users\\s7070\\.julia\\environments\\v1.4\\Project.toml`\n",
      "\u001b[90m [no changes]\u001b[39m\n",
      "\u001b[32m\u001b[1m   Updating\u001b[22m\u001b[39m `C:\\Users\\s7070\\.julia\\environments\\v1.4\\Manifest.toml`\n",
      "\u001b[90m [no changes]\u001b[39m\n",
      "\u001b[32m\u001b[1m  Resolving\u001b[22m\u001b[39m package versions...\n",
      "\u001b[32m\u001b[1m  Installed\u001b[22m\u001b[39m MappedArrays ── v0.2.2\n",
      "\u001b[32m\u001b[1m  Installed\u001b[22m\u001b[39m LearnBase ───── v0.3.0\n",
      "\u001b[32m\u001b[1m  Installed\u001b[22m\u001b[39m MLLabelUtils ── v0.5.2\n",
      "\u001b[32m\u001b[1m  Installed\u001b[22m\u001b[39m MLDataUtils ─── v0.5.1\n",
      "\u001b[32m\u001b[1m  Installed\u001b[22m\u001b[39m MLDataPattern ─ v0.5.3\n",
      "\u001b[32m\u001b[1m   Updating\u001b[22m\u001b[39m `C:\\Users\\s7070\\.julia\\environments\\v1.4\\Project.toml`\n",
      " \u001b[90m [cc2ba9b6]\u001b[39m\u001b[92m + MLDataUtils v0.5.1\u001b[39m\n",
      "\u001b[32m\u001b[1m   Updating\u001b[22m\u001b[39m `C:\\Users\\s7070\\.julia\\environments\\v1.4\\Manifest.toml`\n",
      " \u001b[90m [7f8f8fb0]\u001b[39m\u001b[92m + LearnBase v0.3.0\u001b[39m\n",
      " \u001b[90m [9920b226]\u001b[39m\u001b[92m + MLDataPattern v0.5.3\u001b[39m\n",
      " \u001b[90m [cc2ba9b6]\u001b[39m\u001b[92m + MLDataUtils v0.5.1\u001b[39m\n",
      " \u001b[90m [66a33bbf]\u001b[39m\u001b[92m + MLLabelUtils v0.5.2\u001b[39m\n",
      " \u001b[90m [dbb5928d]\u001b[39m\u001b[92m + MappedArrays v0.2.2\u001b[39m\n"
     ]
    }
   ],
   "source": [
    "using Pkg\n",
    "Pkg.add(\"GLM\")\n",
    "Pkg.add(\"RDatasets\")\n",
    "Pkg.add(\"MLDataUtils\")"
   ]
  },
  {
   "cell_type": "markdown",
   "metadata": {},
   "source": [
    "## 單純線性迴歸模型示範"
   ]
  },
  {
   "cell_type": "markdown",
   "metadata": {},
   "source": [
    "## 載入資料"
   ]
  },
  {
   "cell_type": "code",
   "execution_count": 5,
   "metadata": {},
   "outputs": [
    {
     "data": {
      "text/html": [
       "<table class=\"data-frame\"><thead><tr><th></th><th>Year</th><th>GNPDeflator</th><th>GNP</th><th>Unemployed</th><th>ArmedForces</th><th>Population</th><th>Year_1</th><th>Employed</th></tr><tr><th></th><th>Int64</th><th>Float64</th><th>Float64</th><th>Float64</th><th>Float64</th><th>Float64</th><th>Int64</th><th>Float64</th></tr></thead><tbody><p>16 rows × 8 columns</p><tr><th>1</th><td>1947</td><td>83.0</td><td>234.289</td><td>235.6</td><td>159.0</td><td>107.608</td><td>1947</td><td>60.323</td></tr><tr><th>2</th><td>1948</td><td>88.5</td><td>259.426</td><td>232.5</td><td>145.6</td><td>108.632</td><td>1948</td><td>61.122</td></tr><tr><th>3</th><td>1949</td><td>88.2</td><td>258.054</td><td>368.2</td><td>161.6</td><td>109.773</td><td>1949</td><td>60.171</td></tr><tr><th>4</th><td>1950</td><td>89.5</td><td>284.599</td><td>335.1</td><td>165.0</td><td>110.929</td><td>1950</td><td>61.187</td></tr><tr><th>5</th><td>1951</td><td>96.2</td><td>328.975</td><td>209.9</td><td>309.9</td><td>112.075</td><td>1951</td><td>63.221</td></tr><tr><th>6</th><td>1952</td><td>98.1</td><td>346.999</td><td>193.2</td><td>359.4</td><td>113.27</td><td>1952</td><td>63.639</td></tr><tr><th>7</th><td>1953</td><td>99.0</td><td>365.385</td><td>187.0</td><td>354.7</td><td>115.094</td><td>1953</td><td>64.989</td></tr><tr><th>8</th><td>1954</td><td>100.0</td><td>363.112</td><td>357.8</td><td>335.0</td><td>116.219</td><td>1954</td><td>63.761</td></tr><tr><th>9</th><td>1955</td><td>101.2</td><td>397.469</td><td>290.4</td><td>304.8</td><td>117.388</td><td>1955</td><td>66.019</td></tr><tr><th>10</th><td>1956</td><td>104.6</td><td>419.18</td><td>282.2</td><td>285.7</td><td>118.734</td><td>1956</td><td>67.857</td></tr><tr><th>11</th><td>1957</td><td>108.4</td><td>442.769</td><td>293.6</td><td>279.8</td><td>120.445</td><td>1957</td><td>68.169</td></tr><tr><th>12</th><td>1958</td><td>110.8</td><td>444.546</td><td>468.1</td><td>263.7</td><td>121.95</td><td>1958</td><td>66.513</td></tr><tr><th>13</th><td>1959</td><td>112.6</td><td>482.704</td><td>381.3</td><td>255.2</td><td>123.366</td><td>1959</td><td>68.655</td></tr><tr><th>14</th><td>1960</td><td>114.2</td><td>502.601</td><td>393.1</td><td>251.4</td><td>125.368</td><td>1960</td><td>69.564</td></tr><tr><th>15</th><td>1961</td><td>115.7</td><td>518.173</td><td>480.6</td><td>257.2</td><td>127.852</td><td>1961</td><td>69.331</td></tr><tr><th>16</th><td>1962</td><td>116.9</td><td>554.894</td><td>400.7</td><td>282.7</td><td>130.081</td><td>1962</td><td>70.551</td></tr></tbody></table>"
      ],
      "text/latex": [
       "\\begin{tabular}{r|cccccccc}\n",
       "\t& Year & GNPDeflator & GNP & Unemployed & ArmedForces & Population & Year\\_1 & Employed\\\\\n",
       "\t\\hline\n",
       "\t& Int64 & Float64 & Float64 & Float64 & Float64 & Float64 & Int64 & Float64\\\\\n",
       "\t\\hline\n",
       "\t1 & 1947 & 83.0 & 234.289 & 235.6 & 159.0 & 107.608 & 1947 & 60.323 \\\\\n",
       "\t2 & 1948 & 88.5 & 259.426 & 232.5 & 145.6 & 108.632 & 1948 & 61.122 \\\\\n",
       "\t3 & 1949 & 88.2 & 258.054 & 368.2 & 161.6 & 109.773 & 1949 & 60.171 \\\\\n",
       "\t4 & 1950 & 89.5 & 284.599 & 335.1 & 165.0 & 110.929 & 1950 & 61.187 \\\\\n",
       "\t5 & 1951 & 96.2 & 328.975 & 209.9 & 309.9 & 112.075 & 1951 & 63.221 \\\\\n",
       "\t6 & 1952 & 98.1 & 346.999 & 193.2 & 359.4 & 113.27 & 1952 & 63.639 \\\\\n",
       "\t7 & 1953 & 99.0 & 365.385 & 187.0 & 354.7 & 115.094 & 1953 & 64.989 \\\\\n",
       "\t8 & 1954 & 100.0 & 363.112 & 357.8 & 335.0 & 116.219 & 1954 & 63.761 \\\\\n",
       "\t9 & 1955 & 101.2 & 397.469 & 290.4 & 304.8 & 117.388 & 1955 & 66.019 \\\\\n",
       "\t10 & 1956 & 104.6 & 419.18 & 282.2 & 285.7 & 118.734 & 1956 & 67.857 \\\\\n",
       "\t11 & 1957 & 108.4 & 442.769 & 293.6 & 279.8 & 120.445 & 1957 & 68.169 \\\\\n",
       "\t12 & 1958 & 110.8 & 444.546 & 468.1 & 263.7 & 121.95 & 1958 & 66.513 \\\\\n",
       "\t13 & 1959 & 112.6 & 482.704 & 381.3 & 255.2 & 123.366 & 1959 & 68.655 \\\\\n",
       "\t14 & 1960 & 114.2 & 502.601 & 393.1 & 251.4 & 125.368 & 1960 & 69.564 \\\\\n",
       "\t15 & 1961 & 115.7 & 518.173 & 480.6 & 257.2 & 127.852 & 1961 & 69.331 \\\\\n",
       "\t16 & 1962 & 116.9 & 554.894 & 400.7 & 282.7 & 130.081 & 1962 & 70.551 \\\\\n",
       "\\end{tabular}\n"
      ],
      "text/plain": [
       "16×8 DataFrame. Omitted printing of 2 columns\n",
       "│ Row │ Year  │ GNPDeflator │ GNP     │ Unemployed │ ArmedForces │ Population │\n",
       "│     │ \u001b[90mInt64\u001b[39m │ \u001b[90mFloat64\u001b[39m     │ \u001b[90mFloat64\u001b[39m │ \u001b[90mFloat64\u001b[39m    │ \u001b[90mFloat64\u001b[39m     │ \u001b[90mFloat64\u001b[39m    │\n",
       "├─────┼───────┼─────────────┼─────────┼────────────┼─────────────┼────────────┤\n",
       "│ 1   │ 1947  │ 83.0        │ 234.289 │ 235.6      │ 159.0       │ 107.608    │\n",
       "│ 2   │ 1948  │ 88.5        │ 259.426 │ 232.5      │ 145.6       │ 108.632    │\n",
       "│ 3   │ 1949  │ 88.2        │ 258.054 │ 368.2      │ 161.6       │ 109.773    │\n",
       "│ 4   │ 1950  │ 89.5        │ 284.599 │ 335.1      │ 165.0       │ 110.929    │\n",
       "│ 5   │ 1951  │ 96.2        │ 328.975 │ 209.9      │ 309.9       │ 112.075    │\n",
       "│ 6   │ 1952  │ 98.1        │ 346.999 │ 193.2      │ 359.4       │ 113.27     │\n",
       "│ 7   │ 1953  │ 99.0        │ 365.385 │ 187.0      │ 354.7       │ 115.094    │\n",
       "│ 8   │ 1954  │ 100.0       │ 363.112 │ 357.8      │ 335.0       │ 116.219    │\n",
       "│ 9   │ 1955  │ 101.2       │ 397.469 │ 290.4      │ 304.8       │ 117.388    │\n",
       "│ 10  │ 1956  │ 104.6       │ 419.18  │ 282.2      │ 285.7       │ 118.734    │\n",
       "│ 11  │ 1957  │ 108.4       │ 442.769 │ 293.6      │ 279.8       │ 120.445    │\n",
       "│ 12  │ 1958  │ 110.8       │ 444.546 │ 468.1      │ 263.7       │ 121.95     │\n",
       "│ 13  │ 1959  │ 112.6       │ 482.704 │ 381.3      │ 255.2       │ 123.366    │\n",
       "│ 14  │ 1960  │ 114.2       │ 502.601 │ 393.1      │ 251.4       │ 125.368    │\n",
       "│ 15  │ 1961  │ 115.7       │ 518.173 │ 480.6      │ 257.2       │ 127.852    │\n",
       "│ 16  │ 1962  │ 116.9       │ 554.894 │ 400.7      │ 282.7       │ 130.081    │"
      ]
     },
     "execution_count": 5,
     "metadata": {},
     "output_type": "execute_result"
    }
   ],
   "source": [
    "data = RDatasets.dataset(\"datasets\", \"longley\")"
   ]
  },
  {
   "cell_type": "markdown",
   "metadata": {},
   "source": [
    "## 線性迴歸模型"
   ]
  },
  {
   "cell_type": "code",
   "execution_count": 6,
   "metadata": {},
   "outputs": [
    {
     "data": {
      "text/plain": [
       "StatsModels.TableRegressionModel{LinearModel{GLM.LmResp{Array{Float64,1}},GLM.DensePredChol{Float64,LinearAlgebra.Cholesky{Float64,Array{Float64,2}}}},Array{Float64,2}}\n",
       "\n",
       "Employed ~ 1 + GNP\n",
       "\n",
       "Coefficients:\n",
       "──────────────────────────────────────────────────────────────────────────────\n",
       "               Estimate  Std. Error  t value  Pr(>|t|)   Lower 95%   Upper 95%\n",
       "──────────────────────────────────────────────────────────────────────────────\n",
       "(Intercept)  51.8436     0.681372    76.0871    <1e-19  50.3822     53.305\n",
       "GNP           0.0347523  0.00170571  20.3741    <1e-11   0.0310939   0.0384107\n",
       "──────────────────────────────────────────────────────────────────────────────"
      ]
     },
     "execution_count": 6,
     "metadata": {},
     "output_type": "execute_result"
    }
   ],
   "source": [
    "model = GLM.lm(@formula(Employed ~ GNP), data)"
   ]
  },
  {
   "cell_type": "code",
   "execution_count": 4,
   "metadata": {},
   "outputs": [
    {
     "data": {
      "text/plain": [
       "2-element Array{Float64,1}:\n",
       " 51.84358978188405\n",
       "  0.03475229434762927"
      ]
     },
     "execution_count": 4,
     "metadata": {},
     "output_type": "execute_result"
    }
   ],
   "source": [
    "intercept, slope = coef(model)"
   ]
  },
  {
   "cell_type": "markdown",
   "metadata": {},
   "source": [
    "## 預測"
   ]
  },
  {
   "cell_type": "code",
   "execution_count": 7,
   "metadata": {},
   "outputs": [
    {
     "data": {
      "text/html": [
       "<table class=\"data-frame\"><thead><tr><th></th><th>GNP</th></tr><tr><th></th><th>Float64</th></tr></thead><tbody><p>3 rows × 1 columns</p><tr><th>1</th><td>300.0</td></tr><tr><th>2</th><td>400.0</td></tr><tr><th>3</th><td>500.0</td></tr></tbody></table>"
      ],
      "text/latex": [
       "\\begin{tabular}{r|c}\n",
       "\t& GNP\\\\\n",
       "\t\\hline\n",
       "\t& Float64\\\\\n",
       "\t\\hline\n",
       "\t1 & 300.0 \\\\\n",
       "\t2 & 400.0 \\\\\n",
       "\t3 & 500.0 \\\\\n",
       "\\end{tabular}\n"
      ],
      "text/plain": [
       "3×1 DataFrame\n",
       "│ Row │ GNP     │\n",
       "│     │ \u001b[90mFloat64\u001b[39m │\n",
       "├─────┼─────────┤\n",
       "│ 1   │ 300.0   │\n",
       "│ 2   │ 400.0   │\n",
       "│ 3   │ 500.0   │"
      ]
     },
     "execution_count": 7,
     "metadata": {},
     "output_type": "execute_result"
    }
   ],
   "source": [
    "new_X = DataFrame(GNP=[300., 400., 500.])"
   ]
  },
  {
   "cell_type": "code",
   "execution_count": 8,
   "metadata": {},
   "outputs": [
    {
     "data": {
      "text/plain": [
       "3-element Array{Union{Missing, Float64},1}:\n",
       " 62.26927808617283\n",
       " 65.74450752093576\n",
       " 69.21973695569868"
      ]
     },
     "execution_count": 8,
     "metadata": {},
     "output_type": "execute_result"
    }
   ],
   "source": [
    "predict(model, new_X)"
   ]
  },
  {
   "cell_type": "markdown",
   "metadata": {},
   "source": [
    "## 模型評估"
   ]
  },
  {
   "cell_type": "code",
   "execution_count": 9,
   "metadata": {},
   "outputs": [
    {
     "data": {
      "text/plain": [
       "0.9673737718541234"
      ]
     },
     "execution_count": 9,
     "metadata": {},
     "output_type": "execute_result"
    }
   ],
   "source": [
    "GLM.r2(model)"
   ]
  },
  {
   "cell_type": "code",
   "execution_count": 10,
   "metadata": {},
   "outputs": [
    {
     "data": {
      "text/plain": [
       "0.9650433269865608"
      ]
     },
     "execution_count": 10,
     "metadata": {},
     "output_type": "execute_result"
    }
   ],
   "source": [
    "GLM.adjr2(model)"
   ]
  },
  {
   "cell_type": "markdown",
   "metadata": {},
   "source": [
    "## 多元線性迴歸模型"
   ]
  },
  {
   "cell_type": "markdown",
   "metadata": {},
   "source": [
    "## 載入資料"
   ]
  },
  {
   "cell_type": "code",
   "execution_count": 11,
   "metadata": {},
   "outputs": [
    {
     "data": {
      "text/html": [
       "<table class=\"data-frame\"><thead><tr><th></th><th>Model</th><th>MPG</th><th>Cyl</th><th>Disp</th><th>HP</th><th>DRat</th><th>WT</th><th>QSec</th><th>VS</th></tr><tr><th></th><th>String</th><th>Float64</th><th>Int64</th><th>Float64</th><th>Int64</th><th>Float64</th><th>Float64</th><th>Float64</th><th>Int64</th></tr></thead><tbody><p>6 rows × 12 columns (omitted printing of 3 columns)</p><tr><th>1</th><td>Mazda RX4</td><td>21.0</td><td>6</td><td>160.0</td><td>110</td><td>3.9</td><td>2.62</td><td>16.46</td><td>0</td></tr><tr><th>2</th><td>Mazda RX4 Wag</td><td>21.0</td><td>6</td><td>160.0</td><td>110</td><td>3.9</td><td>2.875</td><td>17.02</td><td>0</td></tr><tr><th>3</th><td>Datsun 710</td><td>22.8</td><td>4</td><td>108.0</td><td>93</td><td>3.85</td><td>2.32</td><td>18.61</td><td>1</td></tr><tr><th>4</th><td>Hornet 4 Drive</td><td>21.4</td><td>6</td><td>258.0</td><td>110</td><td>3.08</td><td>3.215</td><td>19.44</td><td>1</td></tr><tr><th>5</th><td>Hornet Sportabout</td><td>18.7</td><td>8</td><td>360.0</td><td>175</td><td>3.15</td><td>3.44</td><td>17.02</td><td>0</td></tr><tr><th>6</th><td>Valiant</td><td>18.1</td><td>6</td><td>225.0</td><td>105</td><td>2.76</td><td>3.46</td><td>20.22</td><td>1</td></tr></tbody></table>"
      ],
      "text/latex": [
       "\\begin{tabular}{r|cccccccccc}\n",
       "\t& Model & MPG & Cyl & Disp & HP & DRat & WT & QSec & VS & \\\\\n",
       "\t\\hline\n",
       "\t& String & Float64 & Int64 & Float64 & Int64 & Float64 & Float64 & Float64 & Int64 & \\\\\n",
       "\t\\hline\n",
       "\t1 & Mazda RX4 & 21.0 & 6 & 160.0 & 110 & 3.9 & 2.62 & 16.46 & 0 & $\\dots$ \\\\\n",
       "\t2 & Mazda RX4 Wag & 21.0 & 6 & 160.0 & 110 & 3.9 & 2.875 & 17.02 & 0 & $\\dots$ \\\\\n",
       "\t3 & Datsun 710 & 22.8 & 4 & 108.0 & 93 & 3.85 & 2.32 & 18.61 & 1 & $\\dots$ \\\\\n",
       "\t4 & Hornet 4 Drive & 21.4 & 6 & 258.0 & 110 & 3.08 & 3.215 & 19.44 & 1 & $\\dots$ \\\\\n",
       "\t5 & Hornet Sportabout & 18.7 & 8 & 360.0 & 175 & 3.15 & 3.44 & 17.02 & 0 & $\\dots$ \\\\\n",
       "\t6 & Valiant & 18.1 & 6 & 225.0 & 105 & 2.76 & 3.46 & 20.22 & 1 & $\\dots$ \\\\\n",
       "\\end{tabular}\n"
      ],
      "text/plain": [
       "6×12 DataFrame. Omitted printing of 6 columns\n",
       "│ Row │ Model             │ MPG     │ Cyl   │ Disp    │ HP    │ DRat    │\n",
       "│     │ \u001b[90mString\u001b[39m            │ \u001b[90mFloat64\u001b[39m │ \u001b[90mInt64\u001b[39m │ \u001b[90mFloat64\u001b[39m │ \u001b[90mInt64\u001b[39m │ \u001b[90mFloat64\u001b[39m │\n",
       "├─────┼───────────────────┼─────────┼───────┼─────────┼───────┼─────────┤\n",
       "│ 1   │ Mazda RX4         │ 21.0    │ 6     │ 160.0   │ 110   │ 3.9     │\n",
       "│ 2   │ Mazda RX4 Wag     │ 21.0    │ 6     │ 160.0   │ 110   │ 3.9     │\n",
       "│ 3   │ Datsun 710        │ 22.8    │ 4     │ 108.0   │ 93    │ 3.85    │\n",
       "│ 4   │ Hornet 4 Drive    │ 21.4    │ 6     │ 258.0   │ 110   │ 3.08    │\n",
       "│ 5   │ Hornet Sportabout │ 18.7    │ 8     │ 360.0   │ 175   │ 3.15    │\n",
       "│ 6   │ Valiant           │ 18.1    │ 6     │ 225.0   │ 105   │ 2.76    │"
      ]
     },
     "execution_count": 11,
     "metadata": {},
     "output_type": "execute_result"
    }
   ],
   "source": [
    "data = RDatasets.dataset(\"datasets\", \"mtcars\")\n",
    "first(data, 6)"
   ]
  },
  {
   "cell_type": "markdown",
   "metadata": {},
   "source": [
    "## 切分訓練資料及測試資料"
   ]
  },
  {
   "cell_type": "code",
   "execution_count": 12,
   "metadata": {},
   "outputs": [],
   "source": [
    "indecies = MLDataUtils.shuffleobs(collect(1:nrow(data)))\n",
    "train_ind, test_ind = MLDataUtils.splitobs(indecies, at = 0.8);"
   ]
  },
  {
   "cell_type": "code",
   "execution_count": 13,
   "metadata": {},
   "outputs": [
    {
     "data": {
      "text/html": [
       "<table class=\"data-frame\"><thead><tr><th></th><th>Model</th><th>MPG</th><th>Cyl</th><th>Disp</th><th>HP</th><th>DRat</th><th>WT</th><th>QSec</th><th>VS</th></tr><tr><th></th><th>String</th><th>Float64</th><th>Int64</th><th>Float64</th><th>Int64</th><th>Float64</th><th>Float64</th><th>Float64</th><th>Int64</th></tr></thead><tbody><p>6 rows × 12 columns (omitted printing of 3 columns)</p><tr><th>1</th><td>Merc 450SE</td><td>16.4</td><td>8</td><td>275.8</td><td>180</td><td>3.07</td><td>4.07</td><td>17.4</td><td>0</td></tr><tr><th>2</th><td>Pontiac Firebird</td><td>19.2</td><td>8</td><td>400.0</td><td>175</td><td>3.08</td><td>3.845</td><td>17.05</td><td>0</td></tr><tr><th>3</th><td>AMC Javelin</td><td>15.2</td><td>8</td><td>304.0</td><td>150</td><td>3.15</td><td>3.435</td><td>17.3</td><td>0</td></tr><tr><th>4</th><td>Merc 280</td><td>19.2</td><td>6</td><td>167.6</td><td>123</td><td>3.92</td><td>3.44</td><td>18.3</td><td>1</td></tr><tr><th>5</th><td>Toyota Corolla</td><td>33.9</td><td>4</td><td>71.1</td><td>65</td><td>4.22</td><td>1.835</td><td>19.9</td><td>1</td></tr><tr><th>6</th><td>Valiant</td><td>18.1</td><td>6</td><td>225.0</td><td>105</td><td>2.76</td><td>3.46</td><td>20.22</td><td>1</td></tr></tbody></table>"
      ],
      "text/latex": [
       "\\begin{tabular}{r|cccccccccc}\n",
       "\t& Model & MPG & Cyl & Disp & HP & DRat & WT & QSec & VS & \\\\\n",
       "\t\\hline\n",
       "\t& String & Float64 & Int64 & Float64 & Int64 & Float64 & Float64 & Float64 & Int64 & \\\\\n",
       "\t\\hline\n",
       "\t1 & Merc 450SE & 16.4 & 8 & 275.8 & 180 & 3.07 & 4.07 & 17.4 & 0 & $\\dots$ \\\\\n",
       "\t2 & Pontiac Firebird & 19.2 & 8 & 400.0 & 175 & 3.08 & 3.845 & 17.05 & 0 & $\\dots$ \\\\\n",
       "\t3 & AMC Javelin & 15.2 & 8 & 304.0 & 150 & 3.15 & 3.435 & 17.3 & 0 & $\\dots$ \\\\\n",
       "\t4 & Merc 280 & 19.2 & 6 & 167.6 & 123 & 3.92 & 3.44 & 18.3 & 1 & $\\dots$ \\\\\n",
       "\t5 & Toyota Corolla & 33.9 & 4 & 71.1 & 65 & 4.22 & 1.835 & 19.9 & 1 & $\\dots$ \\\\\n",
       "\t6 & Valiant & 18.1 & 6 & 225.0 & 105 & 2.76 & 3.46 & 20.22 & 1 & $\\dots$ \\\\\n",
       "\\end{tabular}\n"
      ],
      "text/plain": [
       "6×12 DataFrame. Omitted printing of 6 columns\n",
       "│ Row │ Model            │ MPG     │ Cyl   │ Disp    │ HP    │ DRat    │\n",
       "│     │ \u001b[90mString\u001b[39m           │ \u001b[90mFloat64\u001b[39m │ \u001b[90mInt64\u001b[39m │ \u001b[90mFloat64\u001b[39m │ \u001b[90mInt64\u001b[39m │ \u001b[90mFloat64\u001b[39m │\n",
       "├─────┼──────────────────┼─────────┼───────┼─────────┼───────┼─────────┤\n",
       "│ 1   │ Merc 450SE       │ 16.4    │ 8     │ 275.8   │ 180   │ 3.07    │\n",
       "│ 2   │ Pontiac Firebird │ 19.2    │ 8     │ 400.0   │ 175   │ 3.08    │\n",
       "│ 3   │ AMC Javelin      │ 15.2    │ 8     │ 304.0   │ 150   │ 3.15    │\n",
       "│ 4   │ Merc 280         │ 19.2    │ 6     │ 167.6   │ 123   │ 3.92    │\n",
       "│ 5   │ Toyota Corolla   │ 33.9    │ 4     │ 71.1    │ 65    │ 4.22    │\n",
       "│ 6   │ Valiant          │ 18.1    │ 6     │ 225.0   │ 105   │ 2.76    │"
      ]
     },
     "execution_count": 13,
     "metadata": {},
     "output_type": "execute_result"
    }
   ],
   "source": [
    "train = data[train_ind, :]\n",
    "test = data[test_ind, :]"
   ]
  },
  {
   "cell_type": "markdown",
   "metadata": {},
   "source": [
    "## 線性迴歸模型"
   ]
  },
  {
   "cell_type": "code",
   "execution_count": 14,
   "metadata": {},
   "outputs": [
    {
     "data": {
      "text/plain": [
       "StatsModels.TableRegressionModel{LinearModel{GLM.LmResp{Array{Float64,1}},GLM.DensePredChol{Float64,LinearAlgebra.Cholesky{Float64,Array{Float64,2}}}},Array{Float64,2}}\n",
       "\n",
       "MPG ~ 1 + Cyl + Disp + HP + DRat + WT + QSec + VS + AM + Gear + Carb\n",
       "\n",
       "Coefficients:\n",
       "────────────────────────────────────────────────────────────────────────────────────\n",
       "                Estimate  Std. Error      t value  Pr(>|t|)    Lower 95%   Upper 95%\n",
       "────────────────────────────────────────────────────────────────────────────────────\n",
       "(Intercept)  20.6293      19.041       1.08341       0.2957  -19.9556     61.2142\n",
       "Cyl          -0.299123     1.15866    -0.258163      0.7998   -2.76875     2.1705\n",
       "Disp          0.0130787    0.0216361   0.604485      0.5546   -0.0330375   0.0591949\n",
       "HP           -0.025823     0.0229574  -1.12482       0.2783   -0.0747556   0.0231096\n",
       "DRat          0.00965025   1.75739     0.00549123    0.9957   -3.73615     3.75545\n",
       "WT           -3.49944      2.17997    -1.60527       0.1293   -8.14594     1.14707\n",
       "QSec          0.5016       0.808962    0.620054      0.5445   -1.22266     2.22586\n",
       "VS            0.863139     2.34234     0.368494      0.7177   -4.12945     5.85572\n",
       "AM            1.76406      2.24723     0.78499       0.4447   -3.02581     6.55392\n",
       "Gear          0.9302       1.51253     0.614996      0.5478   -2.29368     4.15408\n",
       "Carb         -0.120244     0.879501   -0.136718      0.8931   -1.99486     1.75437\n",
       "────────────────────────────────────────────────────────────────────────────────────"
      ]
     },
     "execution_count": 14,
     "metadata": {},
     "output_type": "execute_result"
    }
   ],
   "source": [
    "ols = GLM.lm(@formula(MPG ~ Cyl + Disp + HP + DRat + WT + QSec + VS + AM + Gear + Carb), train)"
   ]
  },
  {
   "cell_type": "markdown",
   "metadata": {},
   "source": [
    "## 預測"
   ]
  },
  {
   "cell_type": "code",
   "execution_count": 15,
   "metadata": {},
   "outputs": [
    {
     "data": {
      "text/plain": [
       "6-element Array{Union{Missing, Float64},1}:\n",
       " 14.139880272772883\n",
       " 16.625522335093954\n",
       " 17.576387427848157\n",
       " 19.132306585062118\n",
       " 28.51303234901311\n",
       " 20.660257398431956"
      ]
     },
     "execution_count": 15,
     "metadata": {},
     "output_type": "execute_result"
    }
   ],
   "source": [
    "predict(ols, test)"
   ]
  },
  {
   "cell_type": "markdown",
   "metadata": {},
   "source": [
    "## 模型評估"
   ]
  },
  {
   "cell_type": "code",
   "execution_count": 16,
   "metadata": {},
   "outputs": [
    {
     "data": {
      "text/plain": [
       "0.8873890771022805"
      ]
     },
     "execution_count": 16,
     "metadata": {},
     "output_type": "execute_result"
    }
   ],
   "source": [
    "GLM.r²(ols)"
   ]
  },
  {
   "cell_type": "code",
   "execution_count": 17,
   "metadata": {},
   "outputs": [
    {
     "data": {
      "text/plain": [
       "0.8123151285038009"
      ]
     },
     "execution_count": 17,
     "metadata": {},
     "output_type": "execute_result"
    }
   ],
   "source": [
    "GLM.adjr²(ols)"
   ]
  },
  {
   "cell_type": "markdown",
   "metadata": {},
   "source": [
    "## 羅吉斯迴歸模型示範"
   ]
  },
  {
   "cell_type": "markdown",
   "metadata": {},
   "source": [
    "## 載入資料"
   ]
  },
  {
   "cell_type": "code",
   "execution_count": 18,
   "metadata": {},
   "outputs": [
    {
     "data": {
      "text/html": [
       "<table class=\"data-frame\"><thead><tr><th></th><th>Default</th><th>Student</th><th>Balance</th><th>Income</th></tr><tr><th></th><th>Categorical…</th><th>Categorical…</th><th>Float64</th><th>Float64</th></tr></thead><tbody><p>6 rows × 4 columns</p><tr><th>1</th><td>No</td><td>No</td><td>729.526</td><td>44361.6</td></tr><tr><th>2</th><td>No</td><td>Yes</td><td>817.18</td><td>12106.1</td></tr><tr><th>3</th><td>No</td><td>No</td><td>1073.55</td><td>31767.1</td></tr><tr><th>4</th><td>No</td><td>No</td><td>529.251</td><td>35704.5</td></tr><tr><th>5</th><td>No</td><td>No</td><td>785.656</td><td>38463.5</td></tr><tr><th>6</th><td>No</td><td>Yes</td><td>919.589</td><td>7491.56</td></tr></tbody></table>"
      ],
      "text/latex": [
       "\\begin{tabular}{r|cccc}\n",
       "\t& Default & Student & Balance & Income\\\\\n",
       "\t\\hline\n",
       "\t& Categorical… & Categorical… & Float64 & Float64\\\\\n",
       "\t\\hline\n",
       "\t1 & No & No & 729.526 & 44361.6 \\\\\n",
       "\t2 & No & Yes & 817.18 & 12106.1 \\\\\n",
       "\t3 & No & No & 1073.55 & 31767.1 \\\\\n",
       "\t4 & No & No & 529.251 & 35704.5 \\\\\n",
       "\t5 & No & No & 785.656 & 38463.5 \\\\\n",
       "\t6 & No & Yes & 919.589 & 7491.56 \\\\\n",
       "\\end{tabular}\n"
      ],
      "text/plain": [
       "6×4 DataFrame\n",
       "│ Row │ Default      │ Student      │ Balance │ Income  │\n",
       "│     │ \u001b[90mCategorical…\u001b[39m │ \u001b[90mCategorical…\u001b[39m │ \u001b[90mFloat64\u001b[39m │ \u001b[90mFloat64\u001b[39m │\n",
       "├─────┼──────────────┼──────────────┼─────────┼─────────┤\n",
       "│ 1   │ No           │ No           │ 729.526 │ 44361.6 │\n",
       "│ 2   │ No           │ Yes          │ 817.18  │ 12106.1 │\n",
       "│ 3   │ No           │ No           │ 1073.55 │ 31767.1 │\n",
       "│ 4   │ No           │ No           │ 529.251 │ 35704.5 │\n",
       "│ 5   │ No           │ No           │ 785.656 │ 38463.5 │\n",
       "│ 6   │ No           │ Yes          │ 919.589 │ 7491.56 │"
      ]
     },
     "execution_count": 18,
     "metadata": {},
     "output_type": "execute_result"
    }
   ],
   "source": [
    "data = RDatasets.dataset(\"ISLR\", \"Default\")\n",
    "first(data, 6)"
   ]
  },
  {
   "cell_type": "markdown",
   "metadata": {},
   "source": [
    "## 前處理"
   ]
  },
  {
   "cell_type": "code",
   "execution_count": 19,
   "metadata": {},
   "outputs": [
    {
     "data": {
      "text/html": [
       "<table class=\"data-frame\"><thead><tr><th></th><th>Default</th><th>Student</th><th>Balance</th><th>Income</th><th>DefaultNum</th><th>StudentNum</th></tr><tr><th></th><th>Categorical…</th><th>Categorical…</th><th>Float64</th><th>Float64</th><th>Float64</th><th>Float64</th></tr></thead><tbody><p>6 rows × 6 columns</p><tr><th>1</th><td>No</td><td>No</td><td>729.526</td><td>44361.6</td><td>0.0</td><td>0.0</td></tr><tr><th>2</th><td>No</td><td>Yes</td><td>817.18</td><td>12106.1</td><td>0.0</td><td>1.0</td></tr><tr><th>3</th><td>No</td><td>No</td><td>1073.55</td><td>31767.1</td><td>0.0</td><td>0.0</td></tr><tr><th>4</th><td>No</td><td>No</td><td>529.251</td><td>35704.5</td><td>0.0</td><td>0.0</td></tr><tr><th>5</th><td>No</td><td>No</td><td>785.656</td><td>38463.5</td><td>0.0</td><td>0.0</td></tr><tr><th>6</th><td>No</td><td>Yes</td><td>919.589</td><td>7491.56</td><td>0.0</td><td>1.0</td></tr></tbody></table>"
      ],
      "text/latex": [
       "\\begin{tabular}{r|cccccc}\n",
       "\t& Default & Student & Balance & Income & DefaultNum & StudentNum\\\\\n",
       "\t\\hline\n",
       "\t& Categorical… & Categorical… & Float64 & Float64 & Float64 & Float64\\\\\n",
       "\t\\hline\n",
       "\t1 & No & No & 729.526 & 44361.6 & 0.0 & 0.0 \\\\\n",
       "\t2 & No & Yes & 817.18 & 12106.1 & 0.0 & 1.0 \\\\\n",
       "\t3 & No & No & 1073.55 & 31767.1 & 0.0 & 0.0 \\\\\n",
       "\t4 & No & No & 529.251 & 35704.5 & 0.0 & 0.0 \\\\\n",
       "\t5 & No & No & 785.656 & 38463.5 & 0.0 & 0.0 \\\\\n",
       "\t6 & No & Yes & 919.589 & 7491.56 & 0.0 & 1.0 \\\\\n",
       "\\end{tabular}\n"
      ],
      "text/plain": [
       "6×6 DataFrame. Omitted printing of 1 columns\n",
       "│ Row │ Default      │ Student      │ Balance │ Income  │ DefaultNum │\n",
       "│     │ \u001b[90mCategorical…\u001b[39m │ \u001b[90mCategorical…\u001b[39m │ \u001b[90mFloat64\u001b[39m │ \u001b[90mFloat64\u001b[39m │ \u001b[90mFloat64\u001b[39m    │\n",
       "├─────┼──────────────┼──────────────┼─────────┼─────────┼────────────┤\n",
       "│ 1   │ No           │ No           │ 729.526 │ 44361.6 │ 0.0        │\n",
       "│ 2   │ No           │ Yes          │ 817.18  │ 12106.1 │ 0.0        │\n",
       "│ 3   │ No           │ No           │ 1073.55 │ 31767.1 │ 0.0        │\n",
       "│ 4   │ No           │ No           │ 529.251 │ 35704.5 │ 0.0        │\n",
       "│ 5   │ No           │ No           │ 785.656 │ 38463.5 │ 0.0        │\n",
       "│ 6   │ No           │ Yes          │ 919.589 │ 7491.56 │ 0.0        │"
      ]
     },
     "execution_count": 19,
     "metadata": {},
     "output_type": "execute_result"
    }
   ],
   "source": [
    "isyes(x) = x == \"Yes\" ? 1.0 : 0.0\n",
    "\n",
    "data[!, :DefaultNum] = isyes.(data[!, :Default])\n",
    "data[!, :StudentNum] = isyes.(data[!, :Student])\n",
    "first(data, 6)"
   ]
  },
  {
   "cell_type": "markdown",
   "metadata": {},
   "source": [
    "## 切分訓練資料及測試資料"
   ]
  },
  {
   "cell_type": "code",
   "execution_count": 20,
   "metadata": {},
   "outputs": [],
   "source": [
    "indecies = MLDataUtils.shuffleobs(collect(1:nrow(data)))\n",
    "train_ind, test_ind = MLDataUtils.splitobs(indecies, at=0.8);"
   ]
  },
  {
   "cell_type": "code",
   "execution_count": 25,
   "metadata": {},
   "outputs": [
    {
     "data": {
      "text/html": [
       "<table class=\"data-frame\"><thead><tr><th></th><th>Default</th><th>Student</th><th>Balance</th><th>Income</th><th>DefaultNum</th><th>StudentNum</th></tr><tr><th></th><th>Categorical…</th><th>Categorical…</th><th>Float64</th><th>Float64</th><th>Float64</th><th>Float64</th></tr></thead><tbody><p>2,000 rows × 6 columns</p><tr><th>1</th><td>No</td><td>No</td><td>198.929</td><td>50463.8</td><td>0.0</td><td>0.0</td></tr><tr><th>2</th><td>No</td><td>Yes</td><td>590.566</td><td>9143.4</td><td>0.0</td><td>1.0</td></tr><tr><th>3</th><td>No</td><td>No</td><td>0.0</td><td>46543.0</td><td>0.0</td><td>0.0</td></tr><tr><th>4</th><td>No</td><td>No</td><td>562.314</td><td>63794.5</td><td>0.0</td><td>0.0</td></tr><tr><th>5</th><td>No</td><td>No</td><td>924.295</td><td>26397.6</td><td>0.0</td><td>0.0</td></tr><tr><th>6</th><td>No</td><td>Yes</td><td>0.0</td><td>15967.6</td><td>0.0</td><td>1.0</td></tr><tr><th>7</th><td>No</td><td>Yes</td><td>1219.38</td><td>11361.8</td><td>0.0</td><td>1.0</td></tr><tr><th>8</th><td>No</td><td>No</td><td>587.259</td><td>33732.2</td><td>0.0</td><td>0.0</td></tr><tr><th>9</th><td>No</td><td>No</td><td>1444.43</td><td>19153.3</td><td>0.0</td><td>0.0</td></tr><tr><th>10</th><td>Yes</td><td>No</td><td>1819.25</td><td>49621.1</td><td>1.0</td><td>0.0</td></tr><tr><th>11</th><td>No</td><td>No</td><td>27.7011</td><td>45540.9</td><td>0.0</td><td>0.0</td></tr><tr><th>12</th><td>No</td><td>No</td><td>443.913</td><td>35242.0</td><td>0.0</td><td>0.0</td></tr><tr><th>13</th><td>No</td><td>Yes</td><td>768.447</td><td>21497.5</td><td>0.0</td><td>1.0</td></tr><tr><th>14</th><td>No</td><td>No</td><td>326.629</td><td>52696.7</td><td>0.0</td><td>0.0</td></tr><tr><th>15</th><td>No</td><td>No</td><td>1105.89</td><td>35450.7</td><td>0.0</td><td>0.0</td></tr><tr><th>16</th><td>No</td><td>No</td><td>109.919</td><td>33419.0</td><td>0.0</td><td>0.0</td></tr><tr><th>17</th><td>No</td><td>Yes</td><td>1214.78</td><td>11789.4</td><td>0.0</td><td>1.0</td></tr><tr><th>18</th><td>No</td><td>No</td><td>1186.49</td><td>50371.7</td><td>0.0</td><td>0.0</td></tr><tr><th>19</th><td>No</td><td>No</td><td>94.1207</td><td>36303.9</td><td>0.0</td><td>0.0</td></tr><tr><th>20</th><td>No</td><td>Yes</td><td>1215.64</td><td>16403.7</td><td>0.0</td><td>1.0</td></tr><tr><th>21</th><td>No</td><td>No</td><td>1353.59</td><td>44372.8</td><td>0.0</td><td>0.0</td></tr><tr><th>22</th><td>No</td><td>No</td><td>1005.16</td><td>42128.0</td><td>0.0</td><td>0.0</td></tr><tr><th>23</th><td>No</td><td>No</td><td>1163.74</td><td>32467.7</td><td>0.0</td><td>0.0</td></tr><tr><th>24</th><td>No</td><td>Yes</td><td>712.595</td><td>18441.0</td><td>0.0</td><td>1.0</td></tr><tr><th>25</th><td>No</td><td>No</td><td>102.258</td><td>23476.7</td><td>0.0</td><td>0.0</td></tr><tr><th>26</th><td>No</td><td>No</td><td>903.549</td><td>46971.6</td><td>0.0</td><td>0.0</td></tr><tr><th>27</th><td>No</td><td>No</td><td>258.63</td><td>33327.9</td><td>0.0</td><td>0.0</td></tr><tr><th>28</th><td>No</td><td>No</td><td>1637.36</td><td>46629.9</td><td>0.0</td><td>0.0</td></tr><tr><th>29</th><td>No</td><td>Yes</td><td>448.243</td><td>23540.9</td><td>0.0</td><td>1.0</td></tr><tr><th>30</th><td>No</td><td>Yes</td><td>1037.97</td><td>15580.8</td><td>0.0</td><td>1.0</td></tr><tr><th>&vellip;</th><td>&vellip;</td><td>&vellip;</td><td>&vellip;</td><td>&vellip;</td><td>&vellip;</td><td>&vellip;</td></tr></tbody></table>"
      ],
      "text/latex": [
       "\\begin{tabular}{r|cccccc}\n",
       "\t& Default & Student & Balance & Income & DefaultNum & StudentNum\\\\\n",
       "\t\\hline\n",
       "\t& Categorical… & Categorical… & Float64 & Float64 & Float64 & Float64\\\\\n",
       "\t\\hline\n",
       "\t1 & No & No & 198.929 & 50463.8 & 0.0 & 0.0 \\\\\n",
       "\t2 & No & Yes & 590.566 & 9143.4 & 0.0 & 1.0 \\\\\n",
       "\t3 & No & No & 0.0 & 46543.0 & 0.0 & 0.0 \\\\\n",
       "\t4 & No & No & 562.314 & 63794.5 & 0.0 & 0.0 \\\\\n",
       "\t5 & No & No & 924.295 & 26397.6 & 0.0 & 0.0 \\\\\n",
       "\t6 & No & Yes & 0.0 & 15967.6 & 0.0 & 1.0 \\\\\n",
       "\t7 & No & Yes & 1219.38 & 11361.8 & 0.0 & 1.0 \\\\\n",
       "\t8 & No & No & 587.259 & 33732.2 & 0.0 & 0.0 \\\\\n",
       "\t9 & No & No & 1444.43 & 19153.3 & 0.0 & 0.0 \\\\\n",
       "\t10 & Yes & No & 1819.25 & 49621.1 & 1.0 & 0.0 \\\\\n",
       "\t11 & No & No & 27.7011 & 45540.9 & 0.0 & 0.0 \\\\\n",
       "\t12 & No & No & 443.913 & 35242.0 & 0.0 & 0.0 \\\\\n",
       "\t13 & No & Yes & 768.447 & 21497.5 & 0.0 & 1.0 \\\\\n",
       "\t14 & No & No & 326.629 & 52696.7 & 0.0 & 0.0 \\\\\n",
       "\t15 & No & No & 1105.89 & 35450.7 & 0.0 & 0.0 \\\\\n",
       "\t16 & No & No & 109.919 & 33419.0 & 0.0 & 0.0 \\\\\n",
       "\t17 & No & Yes & 1214.78 & 11789.4 & 0.0 & 1.0 \\\\\n",
       "\t18 & No & No & 1186.49 & 50371.7 & 0.0 & 0.0 \\\\\n",
       "\t19 & No & No & 94.1207 & 36303.9 & 0.0 & 0.0 \\\\\n",
       "\t20 & No & Yes & 1215.64 & 16403.7 & 0.0 & 1.0 \\\\\n",
       "\t21 & No & No & 1353.59 & 44372.8 & 0.0 & 0.0 \\\\\n",
       "\t22 & No & No & 1005.16 & 42128.0 & 0.0 & 0.0 \\\\\n",
       "\t23 & No & No & 1163.74 & 32467.7 & 0.0 & 0.0 \\\\\n",
       "\t24 & No & Yes & 712.595 & 18441.0 & 0.0 & 1.0 \\\\\n",
       "\t25 & No & No & 102.258 & 23476.7 & 0.0 & 0.0 \\\\\n",
       "\t26 & No & No & 903.549 & 46971.6 & 0.0 & 0.0 \\\\\n",
       "\t27 & No & No & 258.63 & 33327.9 & 0.0 & 0.0 \\\\\n",
       "\t28 & No & No & 1637.36 & 46629.9 & 0.0 & 0.0 \\\\\n",
       "\t29 & No & Yes & 448.243 & 23540.9 & 0.0 & 1.0 \\\\\n",
       "\t30 & No & Yes & 1037.97 & 15580.8 & 0.0 & 1.0 \\\\\n",
       "\t$\\dots$ & $\\dots$ & $\\dots$ & $\\dots$ & $\\dots$ & $\\dots$ & $\\dots$ \\\\\n",
       "\\end{tabular}\n"
      ],
      "text/plain": [
       "2000×6 DataFrame. Omitted printing of 1 columns\n",
       "│ Row  │ Default      │ Student      │ Balance │ Income  │ DefaultNum │\n",
       "│      │ \u001b[90mCategorical…\u001b[39m │ \u001b[90mCategorical…\u001b[39m │ \u001b[90mFloat64\u001b[39m │ \u001b[90mFloat64\u001b[39m │ \u001b[90mFloat64\u001b[39m    │\n",
       "├──────┼──────────────┼──────────────┼─────────┼─────────┼────────────┤\n",
       "│ 1    │ No           │ No           │ 198.929 │ 50463.8 │ 0.0        │\n",
       "│ 2    │ No           │ Yes          │ 590.566 │ 9143.4  │ 0.0        │\n",
       "│ 3    │ No           │ No           │ 0.0     │ 46543.0 │ 0.0        │\n",
       "│ 4    │ No           │ No           │ 562.314 │ 63794.5 │ 0.0        │\n",
       "│ 5    │ No           │ No           │ 924.295 │ 26397.6 │ 0.0        │\n",
       "│ 6    │ No           │ Yes          │ 0.0     │ 15967.6 │ 0.0        │\n",
       "│ 7    │ No           │ Yes          │ 1219.38 │ 11361.8 │ 0.0        │\n",
       "│ 8    │ No           │ No           │ 587.259 │ 33732.2 │ 0.0        │\n",
       "│ 9    │ No           │ No           │ 1444.43 │ 19153.3 │ 0.0        │\n",
       "│ 10   │ Yes          │ No           │ 1819.25 │ 49621.1 │ 1.0        │\n",
       "⋮\n",
       "│ 1990 │ No           │ No           │ 415.542 │ 44147.2 │ 0.0        │\n",
       "│ 1991 │ No           │ Yes          │ 856.564 │ 23200.0 │ 0.0        │\n",
       "│ 1992 │ No           │ No           │ 961.152 │ 51179.5 │ 0.0        │\n",
       "│ 1993 │ No           │ No           │ 1433.99 │ 19865.0 │ 0.0        │\n",
       "│ 1994 │ No           │ No           │ 1470.34 │ 26136.7 │ 0.0        │\n",
       "│ 1995 │ No           │ Yes          │ 1315.34 │ 8431.18 │ 0.0        │\n",
       "│ 1996 │ No           │ No           │ 713.673 │ 48914.6 │ 0.0        │\n",
       "│ 1997 │ No           │ Yes          │ 1405.32 │ 17933.2 │ 0.0        │\n",
       "│ 1998 │ No           │ Yes          │ 407.34  │ 25376.7 │ 0.0        │\n",
       "│ 1999 │ No           │ No           │ 209.043 │ 40076.0 │ 0.0        │\n",
       "│ 2000 │ No           │ No           │ 789.495 │ 32579.9 │ 0.0        │"
      ]
     },
     "execution_count": 25,
     "metadata": {},
     "output_type": "execute_result"
    }
   ],
   "source": [
    "train = data[train_ind, :]\n",
    "test = data[test_ind, :]"
   ]
  },
  {
   "cell_type": "markdown",
   "metadata": {},
   "source": [
    "## 羅吉斯迴歸模型"
   ]
  },
  {
   "cell_type": "code",
   "execution_count": 26,
   "metadata": {},
   "outputs": [
    {
     "data": {
      "text/plain": [
       "StatsModels.TableRegressionModel{GeneralizedLinearModel{GLM.GlmResp{Array{Float64,1},Binomial{Float64},LogitLink},GLM.DensePredChol{Float64,LinearAlgebra.Cholesky{Float64,Array{Float64,2}}}},Array{Float64,2}}\n",
       "\n",
       "DefaultNum ~ 1 + Balance + Income\n",
       "\n",
       "Coefficients:\n",
       "──────────────────────────────────────────────────────────────────────────────────────\n",
       "                 Estimate  Std. Error    z value  Pr(>|z|)     Lower 95%     Upper 95%\n",
       "──────────────────────────────────────────────────────────────────────────────────────\n",
       "(Intercept)  -11.6112      0.487003    -23.8421     <1e-99  -12.5657      -10.6567\n",
       "Balance        0.00564264  0.00025398   22.2169     <1e-99    0.00514485    0.00614043\n",
       "Income         2.25251e-5  5.58667e-6    4.03195    <1e-4     1.15755e-5    3.34748e-5\n",
       "──────────────────────────────────────────────────────────────────────────────────────"
      ]
     },
     "execution_count": 26,
     "metadata": {},
     "output_type": "execute_result"
    }
   ],
   "source": [
    "logreg = glm(@formula(DefaultNum ~ Balance + Income), train, Binomial(), LogitLink())"
   ]
  },
  {
   "cell_type": "markdown",
   "metadata": {},
   "source": [
    "## 預測"
   ]
  },
  {
   "cell_type": "code",
   "execution_count": 29,
   "metadata": {},
   "outputs": [
    {
     "data": {
      "text/plain": [
       "2000-element Array{Union{Missing, Float64},1}:\n",
       " 8.678364690297289e-5\n",
       " 0.0003117844240873406\n",
       " 2.5859497549358563e-5\n",
       " 0.0009098881657097934\n",
       " 0.0030150434662843807\n",
       " 1.2987359800997828e-5\n",
       " 0.011264535551136315\n",
       " 0.0005323487530770504\n",
       " 0.04611712761015493\n",
       " 0.4432182237762428\n",
       " 2.9559658902079253e-5\n",
       " 0.0002453638828721205\n",
       " 0.0011227057061790095\n",
       " ⋮\n",
       " 0.00014310793612865879\n",
       " 0.0002555030656176678\n",
       " 0.0019165141703491758\n",
       " 0.006464556151738883\n",
       " 0.04426718520946663\n",
       " 0.06146507280386323\n",
       " 0.017998404722121837\n",
       " 0.0015278160108713815\n",
       " 0.03634940778650286\n",
       " 0.00015985151227492593\n",
       " 7.271251721933231e-5\n",
       " 0.001621965863477175"
      ]
     },
     "execution_count": 29,
     "metadata": {},
     "output_type": "execute_result"
    }
   ],
   "source": [
    "pred = predict(logreg, test)"
   ]
  },
  {
   "cell_type": "markdown",
   "metadata": {},
   "source": [
    "## 模型評估"
   ]
  },
  {
   "cell_type": "code",
   "execution_count": 23,
   "metadata": {},
   "outputs": [
    {
     "data": {
      "text/plain": [
       "accuracy (generic function with 1 method)"
      ]
     },
     "execution_count": 23,
     "metadata": {},
     "output_type": "execute_result"
    }
   ],
   "source": [
    "error(x, y) = ((x > 0.5) ? 1.0 : 0.0) == y\n",
    "accuracy(xs, ys) = mean(error.(xs, ys))"
   ]
  },
  {
   "cell_type": "code",
   "execution_count": 30,
   "metadata": {},
   "outputs": [
    {
     "data": {
      "text/plain": [
       "0.9725"
      ]
     },
     "execution_count": 30,
     "metadata": {},
     "output_type": "execute_result"
    }
   ],
   "source": [
    "accuracy(pred, test[!, :DefaultNum])"
   ]
  },
  {
   "cell_type": "code",
   "execution_count": null,
   "metadata": {},
   "outputs": [],
   "source": []
  }
 ],
 "metadata": {
  "kernelspec": {
   "display_name": "Julia 1.4.0",
   "language": "julia",
   "name": "julia-1.4"
  },
  "language_info": {
   "file_extension": ".jl",
   "mimetype": "application/julia",
   "name": "julia",
   "version": "1.4.0"
  }
 },
 "nbformat": 4,
 "nbformat_minor": 4
}
