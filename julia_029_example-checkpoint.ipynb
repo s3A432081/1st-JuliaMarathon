{
 "cells": [
  {
   "cell_type": "markdown",
   "metadata": {},
   "source": [
    "# Julia 機器學習：LIBSVM 支撐向量機"
   ]
  },
  {
   "cell_type": "markdown",
   "metadata": {},
   "source": [
    "本範例需要使用到的套件有 LIBSVM、StatsBase，請在執行以下範例前先安裝。\n",
    "\n",
    "```\n",
    "] add LIBSVM\n",
    "] add StatsBase\n",
    "```"
   ]
  },
  {
   "cell_type": "code",
   "execution_count": 3,
   "metadata": {},
   "outputs": [
    {
     "name": "stderr",
     "output_type": "stream",
     "text": [
      "\u001b[32m\u001b[1m   Updating\u001b[22m\u001b[39m registry at `C:\\Users\\Andy Chen\\.julia\\registries\\General`\n"
     ]
    },
    {
     "name": "stdout",
     "output_type": "stream",
     "text": [
      "\u001b[?25l"
     ]
    },
    {
     "name": "stderr",
     "output_type": "stream",
     "text": [
      "\u001b[32m\u001b[1m   Updating\u001b[22m\u001b[39m git-repo `https://github.com/JuliaRegistries/General.git`\n"
     ]
    },
    {
     "name": "stdout",
     "output_type": "stream",
     "text": [
      "\u001b[2K\u001b[?25h[1mFetching:\u001b[22m\u001b[39m [========================================>]  99.9 %=>                                      ]  3.4 %==>                                      ]  4.4 %                                     ]  6.8 %                                    ]  7.5 %8.3 % [====>                                    ]  8.8 % [====>                                    ]  9.6 %                                  ]  12.7 %>                                  ]  14.0 %\u001b[36m\u001b[1mFetching:\u001b[22m\u001b[39m [======>                                  ]  14.7 %                                 ]  16.0 %.0 %.6 %]  20.8 %\u001b[36m\u001b[1mFetching:\u001b[22m\u001b[39m [=========>                               ]  21.6 %==========>                              ]  23.3 %\u001b[36m\u001b[1mFetching:\u001b[22m\u001b[39m [==========>                              ]  24.6 %\u001b[36m\u001b[1mFetching:\u001b[22m\u001b[39m [===========>                             ]  25.7 %===========>                             ]  26.4 %9 %28.4 %                           ]  30.2 %                           ]  32.0 %4 %===============>                         ]  35.6 % %.9 % % [=================>                       ]  40.4 %\u001b[36m\u001b[1mFetching:\u001b[22m\u001b[39m [=================>                       ]  40.8 %1 % %43.6 %]  44.6 %===================>                     ]  45.4 %>                     ]  46.4 % [====================>                    ]  48.5 %\u001b[36m\u001b[1mFetching:\u001b[22m\u001b[39m [====================>                    ]  49.6 %3 %>                   ]  51.2 % [======================>                  ]  52.6 %                  ]  53.3 % [======================>                  ]  53.9 %\u001b[36m\u001b[1mFetching:\u001b[22m\u001b[39m [======================>                  ]  54.5 %                 ]  55.6 %57.0 % [========================>                ]  58.3 %========================>                ]  59.6 %.1 % [=========================>               ]  62.0 %9 %>              ]  64.7 %             ]  65.3 %\u001b[36m\u001b[1mFetching:\u001b[22m\u001b[39m [===========================>             ]  66.7 %===========================>             ]  67.4 % [============================>            ]  67.9 %>            ]  68.7 %69.7 %           ]  70.5 %72.2 %72.8 %]  74.9 %\u001b[36m\u001b[1mFetching:\u001b[22m\u001b[39m [===============================>         ]  76.2 % % % [================================>        ]  79.0 % [=================================>       ]  80.7 %\u001b[36m\u001b[1mFetching:\u001b[22m\u001b[39m [=================================>       ]  81.5 %>      ]  84.2 %     ]  85.3 %86.0 %86.7 %87.4 %====================================>    ]  88.1 %\u001b[36m\u001b[1mFetching:\u001b[22m\u001b[39m [====================================>    ]  88.7 %]  89.5 %.3 %.8 % [======================================>  ]  92.7 % [======================================>  ]  93.5 %9 % ]  95.7 %1 %]  99.7 %"
     ]
    },
    {
     "name": "stderr",
     "output_type": "stream",
     "text": [
      "\u001b[32m\u001b[1m  Resolving\u001b[22m\u001b[39m package versions...\n",
      "\u001b[32m\u001b[1m  Installed\u001b[22m\u001b[39m ScikitLearnBase ─ v0.5.0\n",
      "\u001b[32m\u001b[1m  Installed\u001b[22m\u001b[39m Compat ────────── v3.9.0\n",
      "\u001b[32m\u001b[1m  Installed\u001b[22m\u001b[39m ZeroMQ_jll ────── v4.3.2+2\n",
      "\u001b[32m\u001b[1m  Installed\u001b[22m\u001b[39m LIBSVM ────────── v0.4.0\n",
      "\u001b[32m\u001b[1m  Installed\u001b[22m\u001b[39m LIBLINEAR ─────── v0.5.1\n",
      "\u001b[32m\u001b[1m   Updating\u001b[22m\u001b[39m `C:\\Users\\Andy Chen\\.julia\\environments\\v1.4\\Project.toml`\n",
      " \u001b[90m [b1bec4e5]\u001b[39m\u001b[92m + LIBSVM v0.4.0\u001b[39m\n",
      "\u001b[32m\u001b[1m   Updating\u001b[22m\u001b[39m `C:\\Users\\Andy Chen\\.julia\\environments\\v1.4\\Manifest.toml`\n",
      " \u001b[90m [34da2185]\u001b[39m\u001b[92m + Compat v3.9.0\u001b[39m\n",
      " \u001b[90m [2d691ee1]\u001b[39m\u001b[92m + LIBLINEAR v0.5.1\u001b[39m\n",
      " \u001b[90m [b1bec4e5]\u001b[39m\u001b[92m + LIBSVM v0.4.0\u001b[39m\n",
      " \u001b[90m [6e75b9c4]\u001b[39m\u001b[92m + ScikitLearnBase v0.5.0\u001b[39m\n",
      " \u001b[90m [8f1865be]\u001b[39m\u001b[93m ↑ ZeroMQ_jll v4.3.2+1 ⇒ v4.3.2+2\u001b[39m\n",
      " \u001b[90m [8bb1440f]\u001b[39m\u001b[92m + DelimitedFiles \u001b[39m\n",
      " \u001b[90m [37e2e46d]\u001b[39m\u001b[92m + LinearAlgebra \u001b[39m\n",
      " \u001b[90m [1a1011a3]\u001b[39m\u001b[92m + SharedArrays \u001b[39m\n",
      " \u001b[90m [2f01184e]\u001b[39m\u001b[92m + SparseArrays \u001b[39m\n",
      " \u001b[90m [10745b16]\u001b[39m\u001b[92m + Statistics \u001b[39m\n",
      "\u001b[32m\u001b[1m   Building\u001b[22m\u001b[39m LIBLINEAR → `C:\\Users\\Andy Chen\\.julia\\packages\\LIBLINEAR\\yTdp5\\deps\\build.log`\n",
      "\u001b[32m\u001b[1m   Building\u001b[22m\u001b[39m LIBSVM ───→ `C:\\Users\\Andy Chen\\.julia\\packages\\LIBSVM\\5Z99T\\deps\\build.log`\n",
      "\u001b[32m\u001b[1m  Resolving\u001b[22m\u001b[39m package versions...\n",
      "\u001b[32m\u001b[1m  Installed\u001b[22m\u001b[39m DataAPI ──────────── v1.3.0\n",
      "\u001b[32m\u001b[1m  Installed\u001b[22m\u001b[39m Missings ─────────── v0.4.3\n",
      "\u001b[32m\u001b[1m  Installed\u001b[22m\u001b[39m SortingAlgorithms ── v0.3.1\n",
      "\u001b[32m\u001b[1m  Installed\u001b[22m\u001b[39m OrderedCollections ─ v1.2.0\n",
      "\u001b[32m\u001b[1m  Installed\u001b[22m\u001b[39m DataStructures ───── v0.17.15\n",
      "\u001b[32m\u001b[1m  Installed\u001b[22m\u001b[39m StatsBase ────────── v0.33.0\n",
      "\u001b[32m\u001b[1m   Updating\u001b[22m\u001b[39m `C:\\Users\\Andy Chen\\.julia\\environments\\v1.4\\Project.toml`\n",
      " \u001b[90m [2913bbd2]\u001b[39m\u001b[92m + StatsBase v0.33.0\u001b[39m\n",
      "\u001b[32m\u001b[1m   Updating\u001b[22m\u001b[39m `C:\\Users\\Andy Chen\\.julia\\environments\\v1.4\\Manifest.toml`\n",
      " \u001b[90m [9a962f9c]\u001b[39m\u001b[92m + DataAPI v1.3.0\u001b[39m\n",
      " \u001b[90m [864edb3b]\u001b[39m\u001b[92m + DataStructures v0.17.15\u001b[39m\n",
      " \u001b[90m [e1d29d7a]\u001b[39m\u001b[92m + Missings v0.4.3\u001b[39m\n",
      " \u001b[90m [bac558e1]\u001b[39m\u001b[92m + OrderedCollections v1.2.0\u001b[39m\n",
      " \u001b[90m [a2af1166]\u001b[39m\u001b[92m + SortingAlgorithms v0.3.1\u001b[39m\n",
      " \u001b[90m [2913bbd2]\u001b[39m\u001b[92m + StatsBase v0.33.0\u001b[39m\n",
      "┌ Info: Precompiling LIBSVM [b1bec4e5-fd48-53fe-b0cb-9723c09d164b]\n",
      "└ @ Base loading.jl:1260\n"
     ]
    },
    {
     "ename": "ArgumentError",
     "evalue": "ArgumentError: Package RDatasets not found in current path:\n- Run `import Pkg; Pkg.add(\"RDatasets\")` to install the RDatasets package.\n",
     "output_type": "error",
     "traceback": [
      "ArgumentError: Package RDatasets not found in current path:\n- Run `import Pkg; Pkg.add(\"RDatasets\")` to install the RDatasets package.\n",
      "",
      "Stacktrace:",
      " [1] require(::Module, ::Symbol) at .\\loading.jl:892",
      " [2] top-level scope at In[3]:4"
     ]
    }
   ],
   "source": [
    "using Pkg\n",
    "Pkg.add(\"LIBSVM\")\n",
    "Pkg.add(\"StatsBase\")\n",
    "using LIBSVM, RDatasets, StatsBase"
   ]
  },
  {
   "cell_type": "markdown",
   "metadata": {},
   "source": [
    "## 載入資料"
   ]
  },
  {
   "cell_type": "code",
   "execution_count": 14,
   "metadata": {},
   "outputs": [
    {
     "name": "stderr",
     "output_type": "stream",
     "text": [
      "\u001b[32m\u001b[1m  Resolving\u001b[22m\u001b[39m package versions...\n",
      "\u001b[32m\u001b[1m   Updating\u001b[22m\u001b[39m `C:\\Users\\Andy Chen\\.julia\\environments\\v1.4\\Project.toml`\n",
      "\u001b[90m [no changes]\u001b[39m\n",
      "\u001b[32m\u001b[1m   Updating\u001b[22m\u001b[39m `C:\\Users\\Andy Chen\\.julia\\environments\\v1.4\\Manifest.toml`\n",
      "\u001b[90m [no changes]\u001b[39m\n",
      "┌ Info: Precompiling RDatasets [ce6b1742-4840-55fa-b093-852dadbb1d8b]\n",
      "└ @ Base loading.jl:1260\n"
     ]
    }
   ],
   "source": [
    "Pkg.add(\"RDatasets\")\n",
    "using RDatasets"
   ]
  },
  {
   "cell_type": "code",
   "execution_count": 29,
   "metadata": {},
   "outputs": [
    {
     "name": "stderr",
     "output_type": "stream",
     "text": [
      "\u001b[32m\u001b[1m  Resolving\u001b[22m\u001b[39m package versions...\n",
      "\u001b[32m\u001b[1m   Updating\u001b[22m\u001b[39m `C:\\Users\\Andy Chen\\.julia\\environments\\v1.4\\Project.toml`\n",
      " \u001b[90m [10745b16]\u001b[39m\u001b[92m + Statistics \u001b[39m\n",
      "\u001b[32m\u001b[1m   Updating\u001b[22m\u001b[39m `C:\\Users\\Andy Chen\\.julia\\environments\\v1.4\\Manifest.toml`\n",
      "\u001b[90m [no changes]\u001b[39m\n"
     ]
    }
   ],
   "source": [
    "Pkg.add(\"Statistics\")\n",
    "using Statistics"
   ]
  },
  {
   "cell_type": "code",
   "execution_count": 15,
   "metadata": {},
   "outputs": [
    {
     "data": {
      "text/html": [
       "<table class=\"data-frame\"><thead><tr><th></th><th>SepalLength</th><th>SepalWidth</th><th>PetalLength</th><th>PetalWidth</th><th>Species</th></tr><tr><th></th><th>Float64</th><th>Float64</th><th>Float64</th><th>Float64</th><th>Categorical…</th></tr></thead><tbody><p>6 rows × 5 columns</p><tr><th>1</th><td>5.1</td><td>3.5</td><td>1.4</td><td>0.2</td><td>setosa</td></tr><tr><th>2</th><td>4.9</td><td>3.0</td><td>1.4</td><td>0.2</td><td>setosa</td></tr><tr><th>3</th><td>4.7</td><td>3.2</td><td>1.3</td><td>0.2</td><td>setosa</td></tr><tr><th>4</th><td>4.6</td><td>3.1</td><td>1.5</td><td>0.2</td><td>setosa</td></tr><tr><th>5</th><td>5.0</td><td>3.6</td><td>1.4</td><td>0.2</td><td>setosa</td></tr><tr><th>6</th><td>5.4</td><td>3.9</td><td>1.7</td><td>0.4</td><td>setosa</td></tr></tbody></table>"
      ],
      "text/latex": [
       "\\begin{tabular}{r|ccccc}\n",
       "\t& SepalLength & SepalWidth & PetalLength & PetalWidth & Species\\\\\n",
       "\t\\hline\n",
       "\t& Float64 & Float64 & Float64 & Float64 & Categorical…\\\\\n",
       "\t\\hline\n",
       "\t1 & 5.1 & 3.5 & 1.4 & 0.2 & setosa \\\\\n",
       "\t2 & 4.9 & 3.0 & 1.4 & 0.2 & setosa \\\\\n",
       "\t3 & 4.7 & 3.2 & 1.3 & 0.2 & setosa \\\\\n",
       "\t4 & 4.6 & 3.1 & 1.5 & 0.2 & setosa \\\\\n",
       "\t5 & 5.0 & 3.6 & 1.4 & 0.2 & setosa \\\\\n",
       "\t6 & 5.4 & 3.9 & 1.7 & 0.4 & setosa \\\\\n",
       "\\end{tabular}\n"
      ],
      "text/plain": [
       "6×5 DataFrame\n",
       "│ Row │ SepalLength │ SepalWidth │ PetalLength │ PetalWidth │ Species      │\n",
       "│     │ \u001b[90mFloat64\u001b[39m     │ \u001b[90mFloat64\u001b[39m    │ \u001b[90mFloat64\u001b[39m     │ \u001b[90mFloat64\u001b[39m    │ \u001b[90mCategorical…\u001b[39m │\n",
       "├─────┼─────────────┼────────────┼─────────────┼────────────┼──────────────┤\n",
       "│ 1   │ 5.1         │ 3.5        │ 1.4         │ 0.2        │ setosa       │\n",
       "│ 2   │ 4.9         │ 3.0        │ 1.4         │ 0.2        │ setosa       │\n",
       "│ 3   │ 4.7         │ 3.2        │ 1.3         │ 0.2        │ setosa       │\n",
       "│ 4   │ 4.6         │ 3.1        │ 1.5         │ 0.2        │ setosa       │\n",
       "│ 5   │ 5.0         │ 3.6        │ 1.4         │ 0.2        │ setosa       │\n",
       "│ 6   │ 5.4         │ 3.9        │ 1.7         │ 0.4        │ setosa       │"
      ]
     },
     "execution_count": 15,
     "metadata": {},
     "output_type": "execute_result"
    }
   ],
   "source": [
    "iris = dataset(\"datasets\", \"iris\")\n",
    "first(iris, 6)"
   ]
  },
  {
   "cell_type": "markdown",
   "metadata": {},
   "source": [
    "## 前處理"
   ]
  },
  {
   "cell_type": "code",
   "execution_count": 16,
   "metadata": {},
   "outputs": [],
   "source": [
    "X = Matrix(iris[!, 1:4])\n",
    "y = Vector{String}(iris[!, :Species]);"
   ]
  },
  {
   "cell_type": "markdown",
   "metadata": {},
   "source": [
    "## 支撐向量機模型"
   ]
  },
  {
   "cell_type": "code",
   "execution_count": 17,
   "metadata": {},
   "outputs": [
    {
     "data": {
      "text/plain": [
       "SVC(LIBSVM.Kernel.RadialBasis, 0.25, nothing, 1.0, 3, 0.0, 0.001, true, false, false, LIBSVM.SVM{String}(SVC, LIBSVM.Kernel.RadialBasis, nothing, 4, 3, [\"setosa\", \"versicolor\", \"virginica\"], Int32[1, 2, 3], Float64[], Int32[], LIBSVM.SupportVectors{String,Float64}(45, Int32[7, 19, 19], [\"setosa\", \"setosa\", \"setosa\", \"setosa\", \"setosa\", \"setosa\", \"setosa\", \"versicolor\", \"versicolor\", \"versicolor\"  …  \"virginica\", \"virginica\", \"virginica\", \"virginica\", \"virginica\", \"virginica\", \"virginica\", \"virginica\", \"virginica\", \"virginica\"], [4.3 5.7 … 6.5 5.9; 3.0 4.4 … 3.0 3.0; 1.1 1.5 … 5.2 5.1; 0.1 0.4 … 2.0 1.8], Int32[14, 16, 19, 24, 25, 42, 45, 51, 53, 55  …  130, 132, 134, 135, 139, 142, 143, 147, 148, 150], LIBSVM.SVMNode[LIBSVM.SVMNode(1, 4.3), LIBSVM.SVMNode(1, 5.7), LIBSVM.SVMNode(1, 5.7), LIBSVM.SVMNode(1, 5.1), LIBSVM.SVMNode(1, 4.8), LIBSVM.SVMNode(1, 4.5), LIBSVM.SVMNode(1, 5.1), LIBSVM.SVMNode(1, 7.0), LIBSVM.SVMNode(1, 6.9), LIBSVM.SVMNode(1, 6.5)  …  LIBSVM.SVMNode(1, 7.2), LIBSVM.SVMNode(1, 7.9), LIBSVM.SVMNode(1, 6.3), LIBSVM.SVMNode(1, 6.1), LIBSVM.SVMNode(1, 6.0), LIBSVM.SVMNode(1, 6.9), LIBSVM.SVMNode(1, 5.8), LIBSVM.SVMNode(1, 6.3), LIBSVM.SVMNode(1, 6.5), LIBSVM.SVMNode(1, 5.9)]), 0.0, [0.0 0.009368831960995326; 0.4386244104464341 0.9556474901217844; … ; -0.0 -1.0; -0.0 -1.0], Float64[], Float64[], [0.03985691051205832, 0.1677745320943027, 0.143704687543137], 3, 0.25, 200.0, 0.001, 1.0, 0.5, 0.1, true, false))"
      ]
     },
     "execution_count": 17,
     "metadata": {},
     "output_type": "execute_result"
    }
   ],
   "source": [
    "model = LIBSVM.fit!(SVC(), X, y)"
   ]
  },
  {
   "cell_type": "markdown",
   "metadata": {},
   "source": [
    "## 預測"
   ]
  },
  {
   "cell_type": "code",
   "execution_count": 18,
   "metadata": {},
   "outputs": [
    {
     "data": {
      "text/plain": [
       "150-element Array{String,1}:\n",
       " \"setosa\"\n",
       " \"setosa\"\n",
       " \"setosa\"\n",
       " \"setosa\"\n",
       " \"setosa\"\n",
       " \"setosa\"\n",
       " \"setosa\"\n",
       " \"setosa\"\n",
       " \"setosa\"\n",
       " \"setosa\"\n",
       " \"setosa\"\n",
       " \"setosa\"\n",
       " \"setosa\"\n",
       " ⋮\n",
       " \"virginica\"\n",
       " \"virginica\"\n",
       " \"virginica\"\n",
       " \"virginica\"\n",
       " \"virginica\"\n",
       " \"virginica\"\n",
       " \"virginica\"\n",
       " \"virginica\"\n",
       " \"virginica\"\n",
       " \"virginica\"\n",
       " \"virginica\"\n",
       " \"virginica\""
      ]
     },
     "execution_count": 18,
     "metadata": {},
     "output_type": "execute_result"
    }
   ],
   "source": [
    "predicted_labels, decision_values = LIBSVM.predict(model, X)"
   ]
  },
  {
   "cell_type": "markdown",
   "metadata": {},
   "source": [
    "## 評估模型"
   ]
  },
  {
   "cell_type": "code",
   "execution_count": 30,
   "metadata": {},
   "outputs": [
    {
     "data": {
      "text/plain": [
       "accuracy (generic function with 1 method)"
      ]
     },
     "execution_count": 30,
     "metadata": {},
     "output_type": "execute_result"
    }
   ],
   "source": [
    "accuracy() = mean((predicted_labels .== y))*100"
   ]
  },
  {
   "cell_type": "code",
   "execution_count": 31,
   "metadata": {},
   "outputs": [
    {
     "data": {
      "text/plain": [
       "33.33333333333333"
      ]
     },
     "execution_count": 31,
     "metadata": {},
     "output_type": "execute_result"
    }
   ],
   "source": [
    "accuracy()"
   ]
  },
  {
   "cell_type": "code",
   "execution_count": null,
   "metadata": {},
   "outputs": [],
   "source": []
  },
  {
   "cell_type": "code",
   "execution_count": null,
   "metadata": {},
   "outputs": [],
   "source": []
  }
 ],
 "metadata": {
  "kernelspec": {
   "display_name": "Julia 1.4.0-rc2",
   "language": "julia",
   "name": "julia-1.4"
  },
  "language_info": {
   "file_extension": ".jl",
   "mimetype": "application/julia",
   "name": "julia",
   "version": "1.4.0"
  }
 },
 "nbformat": 4,
 "nbformat_minor": 4
}
